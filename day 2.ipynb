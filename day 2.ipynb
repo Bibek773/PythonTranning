{
 "cells": [
  {
   "cell_type": "code",
   "execution_count": 11,
   "id": "edb175b0",
   "metadata": {},
   "outputs": [
    {
     "name": "stdout",
     "output_type": "stream",
     "text": [
      "3\n",
      "1\n",
      "['apple', 'mango', 'banana', 'cherry', 'grape']\n"
     ]
    }
   ],
   "source": [
    "fruits= [\"apple\", \"banana\", \"cherry\", \"grape\"]\n",
    "# print(fruits)  \n",
    "# print(dir(fruits))\n",
    "# print(len(fruits))\n",
    "# fruits[0]= \"orange\"  \n",
    "# print(fruits) \n",
    "# fruits.append(\"kiwi\")  \n",
    "# print(fruits)\n",
    "# fruits.remove(\"banana\")\n",
    "# print(fruits)\n",
    "# fruits.pop(1)\n",
    "# print(fruits)\n",
    "fruits.insert(1, \"mango\")\n",
    "# fruits.clear()\n",
    "print(fruits.index(\"cherry\"))\n",
    "print(fruits.count(\"cherry\"))\n",
    "print(fruits)"
   ]
  },
  {
   "cell_type": "code",
   "execution_count": 15,
   "id": "3e8d5555",
   "metadata": {},
   "outputs": [
    {
     "name": "stdout",
     "output_type": "stream",
     "text": [
      "True\n",
      "True\n",
      "False\n",
      "True\n"
     ]
    }
   ],
   "source": [
    "list1 = [1, 2, 3, [4, 5]]\n",
    "print(1 in list1)\n",
    "print([4, 5] in list1)\n",
    "print(4 in list1)\n",
    "print(4 in list1[3])"
   ]
  },
  {
   "cell_type": "code",
   "execution_count": 18,
   "id": "97c7572a",
   "metadata": {},
   "outputs": [
    {
     "name": "stdout",
     "output_type": "stream",
     "text": [
      "[4, 5, [6, 7, 8], 9]\n",
      "7\n"
     ]
    }
   ],
   "source": [
    "list  = [1, 2, 3, [4, 5,[6, 7, 8],9]]\n",
    "print(list[3])\n",
    "print(list[3][2][1])\n"
   ]
  },
  {
   "cell_type": "code",
   "execution_count": 20,
   "id": "19ef291d",
   "metadata": {},
   "outputs": [
    {
     "name": "stdout",
     "output_type": "stream",
     "text": [
      "['APPLE', 'BANANA', 'CHERRY']\n"
     ]
    }
   ],
   "source": [
    "words = [\"apple\", \"banana\", \"cherry\"]\n",
    "uppercased = [word.upper() for word in words]\n",
    "print(uppercased)"
   ]
  },
  {
   "cell_type": "code",
   "execution_count": null,
   "id": "ae97b06a",
   "metadata": {},
   "outputs": [
    {
     "name": "stdout",
     "output_type": "stream",
     "text": [
      "{'apple', 'grape', 'banana'}\n",
      "{'banana', 'grape', 'kiwi'}\n"
     ]
    }
   ],
   "source": [
    "\n",
    "#set\n",
    "# A set is an unordered collection of unique elements.\n",
    "# Sets are mutable, meaning you can add or remove elements after creation.\n",
    "# Sets are defined using curly braces {} or the set() constructor.\n",
    "# Sets do not allow duplicate elements, so if you try to add a duplicate, it will be ignored.\n",
    "# They are saved in random order, meaning the order of elements may change.\n",
    "fruits= {\"apple\", \"banana\", \"cherry\", \"grape\", \"grape\"}\n",
    "#print(dir(fruits))\n",
    "\n",
    "fruits.pop()\n",
    "print(fruits) \n",
    "fruits.pop()\n",
    "fruits.add(\"kiwi\")\n",
    "print(fruits) \n",
    "\n"
   ]
  },
  {
   "cell_type": "code",
   "execution_count": 38,
   "id": "d8eb89e0",
   "metadata": {},
   "outputs": [
    {
     "name": "stdout",
     "output_type": "stream",
     "text": [
      "{2, 3, 4, 5}\n",
      "{3, 4, 5}\n"
     ]
    }
   ],
   "source": [
    "a= {1, 2, 3, 4, 5}\n",
    "b= {4, 5, 6, 7, 8}  \n",
    "c ={10, 11, 12}\n",
    "a.remove(1)\n",
    "print(a)\n",
    "a.discard(2)\n",
    "print(a)"
   ]
  },
  {
   "cell_type": "code",
   "execution_count": 41,
   "id": "983886c3",
   "metadata": {},
   "outputs": [
    {
     "name": "stdout",
     "output_type": "stream",
     "text": [
      "('apple', 'banana', 'cherry', 'grape')\n",
      "['__add__', '__class__', '__class_getitem__', '__contains__', '__delattr__', '__dir__', '__doc__', '__eq__', '__format__', '__ge__', '__getattribute__', '__getitem__', '__getnewargs__', '__getstate__', '__gt__', '__hash__', '__init__', '__init_subclass__', '__iter__', '__le__', '__len__', '__lt__', '__mul__', '__ne__', '__new__', '__reduce__', '__reduce_ex__', '__repr__', '__rmul__', '__setattr__', '__sizeof__', '__str__', '__subclasshook__', 'count', 'index']\n"
     ]
    }
   ],
   "source": [
    "fruits = (\"apple\", \"banana\", \"cherry\", \"grape\")\n",
    "print(fruits)\n",
    "print(dir(fruits))\n",
    "# Tuples are immutable, meaning you cannot change their elements after creation."
   ]
  },
  {
   "cell_type": "code",
   "execution_count": 45,
   "id": "598b4544",
   "metadata": {},
   "outputs": [
    {
     "name": "stdout",
     "output_type": "stream",
     "text": [
      "('orange', 'kiwi', 'mango', 'orange')\n"
     ]
    }
   ],
   "source": [
    "newTuple = (\"orange\", \"kiwi\", \"mango\")\n",
    "y =(\"orange\",)\n",
    "newTuple +=  y\n",
    "print(newTuple)\n",
    "# Tuples can be concatenated using the + operator."
   ]
  },
  {
   "cell_type": "code",
   "execution_count": 52,
   "id": "3c207052",
   "metadata": {},
   "outputs": [
    {
     "name": "stdout",
     "output_type": "stream",
     "text": [
      "apple\n",
      "banana\n",
      "cherry\n",
      "grape\n",
      "['apple', 'banana', 'cherry']\n"
     ]
    }
   ],
   "source": [
    "fruits = (\"apple\", \"banana\", \"cherry\", \"grape\")\n",
    "\n",
    "(green , yellow, red, purple) = fruits\n",
    "print(green)\n",
    "print(yellow)\n",
    "print(red)\n",
    "print(purple)\n",
    "# Tuples can be created using parentheses () or the tuple() constructor.\n",
    "# Tuples can contain elements of different data types, including other tuples.\n",
    "# Tuples can be unpacked into variables.\n",
    "(*green ,  purple) = fruits\n",
    "print(green)\n",
    "# Tuples can be unpacked into variables, and the * operator can be used to collect remaining elements into a list.\n",
    "# Tuples can be sliced to extract a portion of the tuple.\n"
   ]
  },
  {
   "cell_type": "code",
   "execution_count": 54,
   "id": "b7d46c2d",
   "metadata": {},
   "outputs": [
    {
     "name": "stdout",
     "output_type": "stream",
     "text": [
      "(3, 4)\n"
     ]
    }
   ],
   "source": [
    "#nested tuple\n",
    "nested_tuple = (1, 2, (3, 4), [\"a\", \"b\", \"c\"])\n",
    "print(nested_tuple[2])  # Accessing the nested tuple (3, 4)"
   ]
  },
  {
   "cell_type": "code",
   "execution_count": 60,
   "id": "9bedd00e",
   "metadata": {},
   "outputs": [
    {
     "name": "stdout",
     "output_type": "stream",
     "text": [
      "Found banana\n"
     ]
    }
   ],
   "source": [
    "list = [\"apple\", \"banana\", \"cherry\", \"grape\"]\n",
    "for i in list:\n",
    "    if (i == \"banana\"):\n",
    "        print(\"Found banana\")\n",
    "        break\n",
    "else:\n",
    "    print(\"Banana not found\")   "
   ]
  },
  {
   "cell_type": "code",
   "execution_count": 62,
   "id": "fe9af848",
   "metadata": {},
   "outputs": [
    {
     "name": "stdout",
     "output_type": "stream",
     "text": [
      "apple\n",
      "banana\n",
      "cherry\n",
      "grape\n"
     ]
    }
   ],
   "source": [
    "fruits = [\"apple\", \"banana\", \"cherry\", \"grape\"]\n",
    "i=0\n",
    "while i < len(fruits):\n",
    "    print(fruits[i])\n",
    "    i += 1\n",
    "\n",
    "    "
   ]
  },
  {
   "cell_type": "code",
   "execution_count": 67,
   "id": "228df4b8",
   "metadata": {},
   "outputs": [
    {
     "name": "stdout",
     "output_type": "stream",
     "text": [
      "{1: 'first', 'name': 'John', 'age': 20, 'subjects': ['Math', 'Science']}\n",
      "first\n",
      "John\n",
      "20\n",
      "{'id': 2, 'name': 'Alice', 'age': 22, 'subjects': ['English', 'History']}\n",
      "['__class__', '__class_getitem__', '__contains__', '__delattr__', '__delitem__', '__dir__', '__doc__', '__eq__', '__format__', '__ge__', '__getattribute__', '__getitem__', '__getstate__', '__gt__', '__hash__', '__init__', '__init_subclass__', '__ior__', '__iter__', '__le__', '__len__', '__lt__', '__ne__', '__new__', '__or__', '__reduce__', '__reduce_ex__', '__repr__', '__reversed__', '__ror__', '__setattr__', '__setitem__', '__sizeof__', '__str__', '__subclasshook__', 'clear', 'copy', 'fromkeys', 'get', 'items', 'keys', 'pop', 'popitem', 'setdefault', 'update', 'values']\n",
      "Help on dict object:\n",
      "\n",
      "class dict(object)\n",
      " |  dict() -> new empty dictionary\n",
      " |  dict(mapping) -> new dictionary initialized from a mapping object's\n",
      " |      (key, value) pairs\n",
      " |  dict(iterable) -> new dictionary initialized as if via:\n",
      " |      d = {}\n",
      " |      for k, v in iterable:\n",
      " |          d[k] = v\n",
      " |  dict(**kwargs) -> new dictionary initialized with the name=value pairs\n",
      " |      in the keyword argument list.  For example:  dict(one=1, two=2)\n",
      " |\n",
      " |  Methods defined here:\n",
      " |\n",
      " |  __contains__(self, key, /)\n",
      " |      True if the dictionary has the specified key, else False.\n",
      " |\n",
      " |  __delitem__(self, key, /)\n",
      " |      Delete self[key].\n",
      " |\n",
      " |  __eq__(self, value, /)\n",
      " |      Return self==value.\n",
      " |\n",
      " |  __ge__(self, value, /)\n",
      " |      Return self>=value.\n",
      " |\n",
      " |  __getattribute__(self, name, /)\n",
      " |      Return getattr(self, name).\n",
      " |\n",
      " |  __getitem__(self, key, /)\n",
      " |      Return self[key].\n",
      " |\n",
      " |  __gt__(self, value, /)\n",
      " |      Return self>value.\n",
      " |\n",
      " |  __init__(self, /, *args, **kwargs)\n",
      " |      Initialize self.  See help(type(self)) for accurate signature.\n",
      " |\n",
      " |  __ior__(self, value, /)\n",
      " |      Return self|=value.\n",
      " |\n",
      " |  __iter__(self, /)\n",
      " |      Implement iter(self).\n",
      " |\n",
      " |  __le__(self, value, /)\n",
      " |      Return self<=value.\n",
      " |\n",
      " |  __len__(self, /)\n",
      " |      Return len(self).\n",
      " |\n",
      " |  __lt__(self, value, /)\n",
      " |      Return self<value.\n",
      " |\n",
      " |  __ne__(self, value, /)\n",
      " |      Return self!=value.\n",
      " |\n",
      " |  __or__(self, value, /)\n",
      " |      Return self|value.\n",
      " |\n",
      " |  __repr__(self, /)\n",
      " |      Return repr(self).\n",
      " |\n",
      " |  __reversed__(self, /)\n",
      " |      Return a reverse iterator over the dict keys.\n",
      " |\n",
      " |  __ror__(self, value, /)\n",
      " |      Return value|self.\n",
      " |\n",
      " |  __setitem__(self, key, value, /)\n",
      " |      Set self[key] to value.\n",
      " |\n",
      " |  __sizeof__(self, /)\n",
      " |      Return the size of the dict in memory, in bytes.\n",
      " |\n",
      " |  clear(self, /)\n",
      " |      Remove all items from the dict.\n",
      " |\n",
      " |  copy(self, /)\n",
      " |      Return a shallow copy of the dict.\n",
      " |\n",
      " |  get(self, key, default=None, /)\n",
      " |      Return the value for key if key is in the dictionary, else default.\n",
      " |\n",
      " |  items(self, /)\n",
      " |      Return a set-like object providing a view on the dict's items.\n",
      " |\n",
      " |  keys(self, /)\n",
      " |      Return a set-like object providing a view on the dict's keys.\n",
      " |\n",
      " |  pop(self, key, default=<unrepresentable>, /)\n",
      " |      D.pop(k[,d]) -> v, remove specified key and return the corresponding value.\n",
      " |\n",
      " |      If the key is not found, return the default if given; otherwise,\n",
      " |      raise a KeyError.\n",
      " |\n",
      " |  popitem(self, /)\n",
      " |      Remove and return a (key, value) pair as a 2-tuple.\n",
      " |\n",
      " |      Pairs are returned in LIFO (last-in, first-out) order.\n",
      " |      Raises KeyError if the dict is empty.\n",
      " |\n",
      " |  setdefault(self, key, default=None, /)\n",
      " |      Insert key with a value of default if key is not in the dictionary.\n",
      " |\n",
      " |      Return the value for key if key is in the dictionary, else default.\n",
      " |\n",
      " |  update(...)\n",
      " |      D.update([E, ]**F) -> None.  Update D from mapping/iterable E and F.\n",
      " |      If E is present and has a .keys() method, then does:  for k in E.keys(): D[k] = E[k]\n",
      " |      If E is present and lacks a .keys() method, then does:  for k, v in E: D[k] = v\n",
      " |      In either case, this is followed by: for k in F:  D[k] = F[k]\n",
      " |\n",
      " |  values(self, /)\n",
      " |      Return an object providing a view on the dict's values.\n",
      " |\n",
      " |  ----------------------------------------------------------------------\n",
      " |  Class methods defined here:\n",
      " |\n",
      " |  __class_getitem__(object, /)\n",
      " |      See PEP 585\n",
      " |\n",
      " |  fromkeys(iterable, value=None, /)\n",
      " |      Create a new dictionary with keys from iterable and values set to value.\n",
      " |\n",
      " |  ----------------------------------------------------------------------\n",
      " |  Static methods defined here:\n",
      " |\n",
      " |  __new__(*args, **kwargs)\n",
      " |      Create and return a new object.  See help(type) for accurate signature.\n",
      " |\n",
      " |  ----------------------------------------------------------------------\n",
      " |  Data and other attributes defined here:\n",
      " |\n",
      " |  __hash__ = None\n",
      "\n",
      "None\n"
     ]
    }
   ],
   "source": [
    "students = {\n",
    "    1: \"first\", \"name\": \"John\",\n",
    "    \"age\": 20,\n",
    "    \"subjects\": [\"Math\", \"Science\"]\n",
    "\n",
    "}\n",
    "print(students)\n",
    "print(students[1])\n",
    "print(students[\"name\"])\n",
    "# Dictionaries are mutable, meaning you can add, remove, or change key-value pairs after creation.\n",
    "print(students.get(\"age\") )\n",
    "\n",
    "#Using dict() constructor\n",
    "students2 = dict(id=2, name=\"Alice\", age=22, subjects=[\"English\", \"History\"])\n",
    "print(students2)\n",
    "print(dir(students2))\n",
    "print(help(students2))"
   ]
  },
  {
   "cell_type": "code",
   "execution_count": null,
   "id": "e11a460a",
   "metadata": {},
   "outputs": [
    {
     "name": "stdout",
     "output_type": "stream",
     "text": [
      "{'id': 2, 'name': 'Alice', 'subjects': ['English', 'History']}\n",
      "Name key does not exist in the dictionary.\n"
     ]
    }
   ],
   "source": [
    " \n",
    "print(students2)\n",
    "# The del statement can be used to remove a key-value pair from a dictionary.\n",
    "if \"name\" in students2.values():\n",
    "    print(\"Name key exists in the dictionary.\") \n",
    "else:\n",
    "    print(\"Name key does not exist in the dictionary.\")"
   ]
  },
  {
   "cell_type": "code",
   "execution_count": 73,
   "id": "9ed31849",
   "metadata": {},
   "outputs": [
    {
     "name": "stdout",
     "output_type": "stream",
     "text": [
      "id\n",
      "name\n",
      "subjects\n",
      "2\n",
      "Alice\n",
      "['English', 'History']\n",
      "Key: id, Value: 2\n",
      "Key: name, Value: Alice\n",
      "Key: subjects, Value: ['English', 'History']\n"
     ]
    }
   ],
   "source": [
    "for key in students2:\n",
    "    print(key)\n",
    "for value in students2.values():\n",
    "\n",
    "    print(value)\n",
    "for key, value in students2.items():\n",
    "    print(f\"Key: {key}, Value: {value}\")"
   ]
  },
  {
   "cell_type": "code",
   "execution_count": 78,
   "id": "2e15f9bb",
   "metadata": {},
   "outputs": [
    {
     "name": "stdout",
     "output_type": "stream",
     "text": [
      "John\n"
     ]
    }
   ],
   "source": [
    "studentss= {\n",
    "    \"student1\": {\n",
    "        \"name\": \"John\", \n",
    "        \"age\": 20,\n",
    "        \"subjects\": [\"Math\", \"Science\"]\n",
    "        },\n",
    "    \"student2\": {\n",
    "        \"name\": \"Alice\",\n",
    "        \"age\": 22,\n",
    "        \"subjects\": [\"English\", \"History\"]\n",
    "    }\n",
    "}\n",
    "print(studentss[\"student1\"][\"name\"])"
   ]
  },
  {
   "cell_type": "code",
   "execution_count": 76,
   "id": "546a0c56",
   "metadata": {},
   "outputs": [
    {
     "name": "stdout",
     "output_type": "stream",
     "text": [
      "{1: 2, 2: 4, 3: 6, 4: 8, 5: 10}\n"
     ]
    }
   ],
   "source": [
    "square = {x: x*2 for x in range(1, 6)}\n",
    "print(square)\n",
    "# Dictionary comprehensions can be used to create dictionaries in a concise way.    "
   ]
  }
 ],
 "metadata": {
  "kernelspec": {
   "display_name": "Python 3",
   "language": "python",
   "name": "python3"
  },
  "language_info": {
   "codemirror_mode": {
    "name": "ipython",
    "version": 3
   },
   "file_extension": ".py",
   "mimetype": "text/x-python",
   "name": "python",
   "nbconvert_exporter": "python",
   "pygments_lexer": "ipython3",
   "version": "3.13.1"
  }
 },
 "nbformat": 4,
 "nbformat_minor": 5
}
