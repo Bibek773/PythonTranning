{
 "cells": [
  {
   "cell_type": "markdown",
   "id": "f8ab9a37",
   "metadata": {},
   "source": [
    "### Q1: (Printing and Input)\n",
    "Print your name and age using two print statements."
   ]
  },
  {
   "cell_type": "code",
   "execution_count": 2,
   "id": "0279d2d0",
   "metadata": {},
   "outputs": [
    {
     "name": "stdout",
     "output_type": "stream",
     "text": [
      "My name is Oshan Bajracharya and I am 21 Years old.\n"
     ]
    }
   ],
   "source": [
    "print(\"My name is Oshan Bajracharya and I am 21 Years old.\")"
   ]
  },
  {
   "cell_type": "markdown",
   "id": "c16c9896",
   "metadata": {},
   "source": [
    "### Q2: (Printing and Input)\n",
    "Print the result of 10 + 20."
   ]
  },
  {
   "cell_type": "code",
   "execution_count": 3,
   "id": "e5122580",
   "metadata": {},
   "outputs": [
    {
     "name": "stdout",
     "output_type": "stream",
     "text": [
      "30\n"
     ]
    }
   ],
   "source": [
    "print(10+20)"
   ]
  },
  {
   "cell_type": "markdown",
   "id": "6573caaf",
   "metadata": {},
   "source": [
    "### Q3: (Printing and Input)\n",
    "Use `input()` to take a user's name and greet them."
   ]
  },
  {
   "cell_type": "code",
   "execution_count": null,
   "id": "39fff17b",
   "metadata": {},
   "outputs": [],
   "source": [
    "greeting = input(\"Enter your greeting: \")\n",
    "print(f\"{greeting} Oshan Bajracharya\")\n"
   ]
  },
  {
   "cell_type": "markdown",
   "id": "3855d528",
   "metadata": {},
   "source": [
    "### Q4: (Printing and Input)\n",
    "Input two numbers and print their sum."
   ]
  },
  {
   "cell_type": "code",
   "execution_count": 7,
   "id": "aaf6a782",
   "metadata": {},
   "outputs": [
    {
     "name": "stdout",
     "output_type": "stream",
     "text": [
      "The sum of 10 and 20 is 30\n"
     ]
    }
   ],
   "source": [
    "a= input(\"Enter first number: \")\n",
    "b = input(\"Enter second number: \")\n",
    "print(f\"The sum of {a} and {b} is {int(a) + int(b)}\")"
   ]
  },
  {
   "cell_type": "markdown",
   "id": "1da9ba3a",
   "metadata": {},
   "source": [
    "### Q5: (Printing and Input)\n",
    "Ask for a favorite color and print it twice using multiplication."
   ]
  },
  {
   "cell_type": "code",
   "execution_count": null,
   "id": "406f7bbe",
   "metadata": {},
   "outputs": [],
   "source": [
    "f_color = input(\"Enter your favorite color: \")\n",
    "print(f\"{f_color}*2\")"
   ]
  },
  {
   "cell_type": "markdown",
   "id": "5a25c994",
   "metadata": {},
   "source": [
    "### Q6: (Printing and Input)\n",
    "Ask the user to input a sentence and print its length."
   ]
  },
  {
   "cell_type": "code",
   "execution_count": null,
   "id": "d98df8d8",
   "metadata": {},
   "outputs": [],
   "source": [
    "sen = input(\"Enter a sentence: \")\n",
    "print(f\"The length of the sentence {sen} is {len(sen)} characters.\")"
   ]
  },
  {
   "cell_type": "markdown",
   "id": "813f4fc9",
   "metadata": {},
   "source": [
    "### Q7: (Variable and Data Types)\n",
    "Create a variable for each type: int, float, string, bool. Print them."
   ]
  },
  {
   "cell_type": "code",
   "execution_count": 9,
   "id": "3ebf3587",
   "metadata": {},
   "outputs": [
    {
     "name": "stdout",
     "output_type": "stream",
     "text": [
      "Variable a is of type <class 'int'>\n",
      "Variable b is of type <class 'float'>\n",
      "Variable c is of type <class 'str'>\n",
      "Variable d is of type <class 'bool'>\n"
     ]
    }
   ],
   "source": [
    "a=int(10)\n",
    "b=float(20.5)\n",
    "c=\"oshan\"\n",
    "d=True\n",
    "print(f\"Variable a is of type {type(a)}\")\n",
    "print(f\"Variable b is of type {type(b)}\")\n",
    "print(f\"Variable c is of type {type(c)}\")\n",
    "print(f\"Variable d is of type {type(d)}\")"
   ]
  },
  {
   "cell_type": "markdown",
   "id": "f3b03a15",
   "metadata": {},
   "source": [
    "### Q8: (Variable and Data Types)\n",
    "Assign the value 10 to x and then add 5 to it. Print the result."
   ]
  },
  {
   "cell_type": "code",
   "execution_count": null,
   "id": "5c61e9ab",
   "metadata": {},
   "outputs": [],
   "source": [
    "a = int(input(\"Enter value for x: \"))\n",
    "assign=a+10"
   ]
  },
  {
   "cell_type": "markdown",
   "id": "13a3cb28",
   "metadata": {},
   "source": [
    "### Q9: (Variable and Data Types)\n",
    "Check the type of variable `val = 3.14`."
   ]
  },
  {
   "cell_type": "code",
   "execution_count": 10,
   "id": "48968742",
   "metadata": {},
   "outputs": [
    {
     "name": "stdout",
     "output_type": "stream",
     "text": [
      "<class 'float'>\n"
     ]
    }
   ],
   "source": [
    "val = 3.14\n",
    "print(type(val))"
   ]
  },
  {
   "cell_type": "markdown",
   "id": "c980d4f3",
   "metadata": {},
   "source": [
    "### Q10: (Variable and Data Types)\n",
    "Use multiple assignment to assign 3 values to a, b, c."
   ]
  },
  {
   "cell_type": "code",
   "execution_count": null,
   "id": "d6b5a2a4",
   "metadata": {},
   "outputs": [],
   "source": [
    "a, b, c = 10, 20, 30\n",
    "print(a,b,c)"
   ]
  },
  {
   "cell_type": "markdown",
   "id": "170338e4",
   "metadata": {},
   "source": [
    "### Q11: (Complex Numbers)\n",
    "Create complex numbers x = 2+3j and y = 4-2j. Print their sum."
   ]
  },
  {
   "cell_type": "code",
   "execution_count": 11,
   "id": "3d6a8e68",
   "metadata": {},
   "outputs": [
    {
     "name": "stdout",
     "output_type": "stream",
     "text": [
      "(8+10j)\n"
     ]
    }
   ],
   "source": [
    "complex1 = 3 + 4j\n",
    "complex2 = 5 + 6j\n",
    "print(complex1 + complex2)"
   ]
  },
  {
   "cell_type": "markdown",
   "id": "52748b36",
   "metadata": {},
   "source": [
    "### Q12: (Complex Numbers)\n",
    "Print the real and imaginary parts of 5 + 7j."
   ]
  },
  {
   "cell_type": "code",
   "execution_count": 12,
   "id": "a4bd1412",
   "metadata": {},
   "outputs": [
    {
     "name": "stdout",
     "output_type": "stream",
     "text": [
      "5.0\n",
      "7.0\n"
     ]
    }
   ],
   "source": [
    "comp=5+7j\n",
    "print(comp.real)\n",
    "print(comp.imag)"
   ]
  },
  {
   "cell_type": "markdown",
   "id": "0f0fa2bd",
   "metadata": {},
   "source": [
    "### Q13: (Complex Numbers)\n",
    "Multiply two complex numbers: (1+2j)*(3+4j) and print the result."
   ]
  },
  {
   "cell_type": "code",
   "execution_count": 13,
   "id": "b7d61e9d",
   "metadata": {},
   "outputs": [
    {
     "name": "stdout",
     "output_type": "stream",
     "text": [
      "(-9+38j)\n"
     ]
    }
   ],
   "source": [
    "complex1 = 3 + 4j\n",
    "complex2 = 5 + 6j\n",
    "print(complex1 * complex2)"
   ]
  },
  {
   "cell_type": "markdown",
   "id": "06d7073c",
   "metadata": {},
   "source": [
    "### Q14: (If-Else and Comparisons)\n",
    "Check if the number 12 is greater than 10 and print a message."
   ]
  },
  {
   "cell_type": "code",
   "execution_count": null,
   "id": "18d1e7b4",
   "metadata": {},
   "outputs": [],
   "source": [
    "if 12>10:\n",
    "    print(\"12 is greater than 10\")\n",
    "else:\n",
    "    print(\"12 is not greater than 10\")"
   ]
  },
  {
   "cell_type": "markdown",
   "id": "9b300253",
   "metadata": {},
   "source": [
    "### Q15: (If-Else and Comparisons)\n",
    "Ask for an age and print whether the person is an adult or not."
   ]
  },
  {
   "cell_type": "code",
   "execution_count": null,
   "id": "299136ae",
   "metadata": {},
   "outputs": [],
   "source": [
    "age=int(input(\"Enter your age: \"))\n",
    "if age >= 18:\n",
    "    print(\"you are adult\")\n",
    "else:\n",
    "    print(\"you are not adult\")"
   ]
  },
  {
   "cell_type": "markdown",
   "id": "a6a78c28",
   "metadata": {},
   "source": [
    "### Q16: (If-Else and Comparisons)\n",
    "Check if a number is even or odd."
   ]
  },
  {
   "cell_type": "code",
   "execution_count": null,
   "id": "a4103384",
   "metadata": {},
   "outputs": [],
   "source": [
    "num = int(input(\"Enter a number: \"))\n",
    "if num % 2 == 0:\n",
    "    print(f\"{num} is an even number\")\n",
    "else:\n",
    "    print(f\"{num} is an odd number\")"
   ]
  },
  {
   "cell_type": "markdown",
   "id": "d0508082",
   "metadata": {},
   "source": [
    "### Q17: (If-Else and Comparisons)\n",
    "Compare two input numbers and print which is larger."
   ]
  },
  {
   "cell_type": "code",
   "execution_count": null,
   "id": "3154a335",
   "metadata": {},
   "outputs": [],
   "source": [
    "num1 = int(input(\"Enter a number: \"))\n",
    "num2 = int(input(\"Enter another number: \"))\n",
    "if num1 > num2:\n",
    "    print(f\"{num1} is greater than {num2}\")\n",
    "elif num1 < num2:\n",
    "    print(f\"{num1} is less than {num2}\")\n",
    "else:\n",
    "    print(f\"{num1} is equal to {num2}\")\n"
   ]
  },
  {
   "cell_type": "markdown",
   "id": "2f6fb761",
   "metadata": {},
   "source": [
    "### Q18: (Loops)\n",
    "Print numbers from 1 to 10 using a for loop."
   ]
  },
  {
   "cell_type": "code",
   "execution_count": 14,
   "id": "d86bb287",
   "metadata": {},
   "outputs": [
    {
     "name": "stdout",
     "output_type": "stream",
     "text": [
      "1\n",
      "2\n",
      "3\n",
      "4\n",
      "5\n",
      "6\n",
      "7\n",
      "8\n",
      "9\n",
      "10\n"
     ]
    }
   ],
   "source": [
    "for a in  range(1, 11):\n",
    "    print(a)"
   ]
  },
  {
   "cell_type": "markdown",
   "id": "719a344e",
   "metadata": {},
   "source": [
    "### Q19: (Loops)\n",
    "Print all even numbers from 0 to 20."
   ]
  },
  {
   "cell_type": "code",
   "execution_count": 16,
   "id": "75ba27f0",
   "metadata": {},
   "outputs": [
    {
     "name": "stdout",
     "output_type": "stream",
     "text": [
      "1\n",
      "2\n",
      "3\n",
      "4\n",
      "5\n",
      "6\n",
      "7\n",
      "8\n",
      "9\n",
      "10\n",
      "11\n",
      "12\n",
      "13\n",
      "14\n",
      "15\n",
      "16\n",
      "17\n",
      "18\n",
      "19\n",
      "20\n"
     ]
    }
   ],
   "source": [
    "for a in  range(1, 21):\n",
    "    print(a)"
   ]
  },
  {
   "cell_type": "markdown",
   "id": "05acf273",
   "metadata": {},
   "source": [
    "### Q20: (Loops)\n",
    "Print the multiplication table of 7."
   ]
  },
  {
   "cell_type": "code",
   "execution_count": 20,
   "id": "d564f8d4",
   "metadata": {},
   "outputs": [
    {
     "name": "stdout",
     "output_type": "stream",
     "text": [
      "7\n",
      "14\n",
      "21\n",
      "28\n",
      "35\n",
      "42\n",
      "49\n",
      "56\n",
      "63\n",
      "70\n"
     ]
    }
   ],
   "source": [
    "for x in range(1, 11):\n",
    " x=x*7\n",
    " print(x)\n",
    "\n"
   ]
  },
  {
   "cell_type": "markdown",
   "id": "41a216df",
   "metadata": {},
   "source": [
    "### Q21: (Loops)\n",
    "Use a while loop to print numbers from 5 to 1."
   ]
  },
  {
   "cell_type": "code",
   "execution_count": 27,
   "id": "3273c968",
   "metadata": {},
   "outputs": [
    {
     "name": "stdout",
     "output_type": "stream",
     "text": [
      "5\n",
      "4\n",
      "3\n",
      "2\n",
      "1\n"
     ]
    }
   ],
   "source": [
    "for i in range(5,0,-1):\n",
    "    print(i)"
   ]
  },
  {
   "cell_type": "markdown",
   "id": "2d506e61",
   "metadata": {},
   "source": [
    "### Q22: (Loops)\n",
    "Print the characters of a string one by one using a loop."
   ]
  },
  {
   "cell_type": "code",
   "execution_count": 166,
   "id": "78c2f435",
   "metadata": {},
   "outputs": [
    {
     "name": "stdout",
     "output_type": "stream",
     "text": [
      "o\n",
      "s\n",
      "h\n",
      "a\n",
      "n\n"
     ]
    }
   ],
   "source": [
    "a = \"oshan\"\n",
    "for a in a:\n",
    "    print(a)"
   ]
  },
  {
   "cell_type": "markdown",
   "id": "92d4177d",
   "metadata": {},
   "source": [
    "### Q23: (String Operations)\n",
    "Concatenate 'Hello' and 'World' and print."
   ]
  },
  {
   "cell_type": "code",
   "execution_count": 30,
   "id": "18a69cf1",
   "metadata": {},
   "outputs": [
    {
     "name": "stdout",
     "output_type": "stream",
     "text": [
      "Hello World\n"
     ]
    }
   ],
   "source": [
    "con1 = \"Hello\"\n",
    "con2 = \"World\"\n",
    "print(con1 + \" \" + con2)"
   ]
  },
  {
   "cell_type": "markdown",
   "id": "0117a785",
   "metadata": {},
   "source": [
    "### Q24: (String Operations)\n",
    "Repeat the word 'Yes' 4 times using *."
   ]
  },
  {
   "cell_type": "code",
   "execution_count": 32,
   "id": "b3c07d0b",
   "metadata": {},
   "outputs": [
    {
     "name": "stdout",
     "output_type": "stream",
     "text": [
      "YES \n",
      "YES \n",
      "YES \n",
      "YES \n",
      "\n"
     ]
    }
   ],
   "source": [
    "print(\"YES \\n\"*4 )"
   ]
  },
  {
   "cell_type": "markdown",
   "id": "c33b1381",
   "metadata": {},
   "source": [
    "### Q25: (String Operations)\n",
    "Find the length of a string input by user."
   ]
  },
  {
   "cell_type": "code",
   "execution_count": null,
   "id": "13542bdf",
   "metadata": {},
   "outputs": [],
   "source": [
    "a= input(\"Enter a string: \")\n",
    "print(f\"The length of the string '{a}' is {len(a)} characters.\")"
   ]
  },
  {
   "cell_type": "markdown",
   "id": "e0ae1001",
   "metadata": {},
   "source": [
    "### Q26: (String Operations)\n",
    "Access and print the first and last character of a string."
   ]
  },
  {
   "cell_type": "code",
   "execution_count": 38,
   "id": "242cb4ae",
   "metadata": {},
   "outputs": [
    {
     "name": "stdout",
     "output_type": "stream",
     "text": [
      "H !\n"
     ]
    }
   ],
   "source": [
    "a =\"Hello, World!\"\n",
    "print(a[0],a[len(a)-1])\n"
   ]
  },
  {
   "cell_type": "markdown",
   "id": "a25edfc7",
   "metadata": {},
   "source": [
    "### Q27: (Lists)\n",
    "Create a list of 5 fruits and print the third item."
   ]
  },
  {
   "cell_type": "code",
   "execution_count": null,
   "id": "1f006ff1",
   "metadata": {},
   "outputs": [
    {
     "name": "stdout",
     "output_type": "stream",
     "text": [
      "mango\n"
     ]
    }
   ],
   "source": [
    "friuts =[\"apple\",'banana',\"man\",\"lichi\",\"pineapple\"]\n",
    "print(friuts[2])"
   ]
  },
  {
   "cell_type": "markdown",
   "id": "e6dd1826",
   "metadata": {},
   "source": [
    "### Q28: (Lists)\n",
    "Add 'mango' to the list and print."
   ]
  },
  {
   "cell_type": "code",
   "execution_count": 40,
   "id": "7d66a74e",
   "metadata": {},
   "outputs": [
    {
     "name": "stdout",
     "output_type": "stream",
     "text": [
      "['apple', 'banana', 'man', 'lichi', 'pineapple', 'mango']\n"
     ]
    }
   ],
   "source": [
    "friut =[\"apple\",'banana',\"man\",\"lichi\",\"pineapple\"]\n",
    "friut.append(\"mango\")\n",
    "print(friut)"
   ]
  },
  {
   "cell_type": "markdown",
   "id": "1f823c7e",
   "metadata": {},
   "source": [
    "### Q29: (Lists)\n",
    "Remove the first item of the list and print the rest."
   ]
  },
  {
   "cell_type": "code",
   "execution_count": 42,
   "id": "d8259b4a",
   "metadata": {},
   "outputs": [
    {
     "name": "stdout",
     "output_type": "stream",
     "text": [
      "['man', 'lichi', 'pineapple', 'mango']\n"
     ]
    }
   ],
   "source": [
    "friut.pop(0)\n",
    "print(friut)"
   ]
  },
  {
   "cell_type": "markdown",
   "id": "30b78d5b",
   "metadata": {},
   "source": [
    "### Q30: (Lists)\n",
    "Sort a list of numbers in descending order."
   ]
  },
  {
   "cell_type": "code",
   "execution_count": 83,
   "id": "085d942f",
   "metadata": {},
   "outputs": [
    {
     "name": "stdout",
     "output_type": "stream",
     "text": [
      "[5, 4, 3, 2, 1]\n"
     ]
    }
   ],
   "source": [
    "list1=[1,2,3,4,5]\n",
    "list.reverse()\n",
    "print(list)\n"
   ]
  },
  {
   "cell_type": "markdown",
   "id": "e9361197",
   "metadata": {},
   "source": [
    "### Q31: (Lists)\n",
    "Print every second item from a list using slicing."
   ]
  },
  {
   "cell_type": "code",
   "execution_count": 82,
   "id": "69183c08",
   "metadata": {},
   "outputs": [
    {
     "name": "stdout",
     "output_type": "stream",
     "text": [
      "[1, 3, 5]\n"
     ]
    }
   ],
   "source": [
    "list1=[1,2,3,4,5]\n",
    "print(list1[::2])\n"
   ]
  },
  {
   "cell_type": "markdown",
   "id": "b9e340f2",
   "metadata": {},
   "source": [
    "### Q32: (Tuples)\n",
    "Create a tuple with 4 numbers and print its last item."
   ]
  },
  {
   "cell_type": "code",
   "execution_count": 67,
   "id": "f9f15292",
   "metadata": {},
   "outputs": [
    {
     "name": "stdout",
     "output_type": "stream",
     "text": [
      "(1, 2, 3, 4)\n"
     ]
    }
   ],
   "source": [
    "tup= (1,2,3,4)\n",
    "print(tup[:])\n"
   ]
  },
  {
   "cell_type": "markdown",
   "id": "d3c37e08",
   "metadata": {},
   "source": [
    "### Q33: (Tuples)\n",
    "Try changing the value of an item in a tuple and observe the error."
   ]
  },
  {
   "cell_type": "code",
   "execution_count": null,
   "id": "ed7228dc",
   "metadata": {},
   "outputs": [],
   "source": [
    "tup= (1,2,3,4)\n",
    "tup[1]=5\n",
    "print(tup)\n"
   ]
  },
  {
   "cell_type": "markdown",
   "id": "9b9c8668",
   "metadata": {},
   "source": [
    "### Q34: (Tuples)\n",
    "Convert a tuple to a list, change a value, and convert it back."
   ]
  },
  {
   "cell_type": "code",
   "execution_count": null,
   "id": "f2288a67",
   "metadata": {},
   "outputs": [],
   "source": [
    "\n",
    "tup =(1, 2, 3, 4)\n",
    "a = list(tup)\n",
    "a[2] = 8\n",
    "tup1 = tuple(a)  \n",
    "print(tup1)\n",
    "\n",
    "\n"
   ]
  },
  {
   "cell_type": "markdown",
   "id": "63348f89",
   "metadata": {},
   "source": [
    "### Q35: (Sets)\n",
    "Create a set of 3 elements and add one more element."
   ]
  },
  {
   "cell_type": "code",
   "execution_count": 88,
   "id": "0884e279",
   "metadata": {},
   "outputs": [
    {
     "name": "stdout",
     "output_type": "stream",
     "text": [
      "{1, 2, 3, 4}\n"
     ]
    }
   ],
   "source": [
    "set1={1,2,3}\n",
    "set2={4}\n",
    "a=set1.union(set2)\n",
    "print(a)"
   ]
  },
  {
   "cell_type": "markdown",
   "id": "54c17b59",
   "metadata": {},
   "source": [
    "### Q36: (Sets)\n",
    "Try adding a duplicate and print the set."
   ]
  },
  {
   "cell_type": "code",
   "execution_count": null,
   "id": "6ab2ac73",
   "metadata": {},
   "outputs": [
    {
     "name": "stdout",
     "output_type": "stream",
     "text": [
      "{3}\n"
     ]
    }
   ],
   "source": [
    "SET={3}\n",
    "SET.add(3)\n",
    "print(SET)\n"
   ]
  },
  {
   "cell_type": "markdown",
   "id": "7e3fea9e",
   "metadata": {},
   "source": [
    "### Q37: (Sets)\n",
    "Perform union of two sets {1,2,3} and {3,4,5}."
   ]
  },
  {
   "cell_type": "markdown",
   "id": "87863627",
   "metadata": {},
   "source": [
    "### Q38: (Dictionaries)\n",
    "Create a dictionary for a student with name, age, grade. Print the dictionary."
   ]
  },
  {
   "cell_type": "code",
   "execution_count": null,
   "id": "ceb5ed1f",
   "metadata": {},
   "outputs": [],
   "source": [
    "set1={1,2,3}\n",
    "set2={3,4,5}\n",
    "print(set1.union(set2))"
   ]
  },
  {
   "cell_type": "code",
   "execution_count": 104,
   "id": "8e56d184",
   "metadata": {},
   "outputs": [
    {
     "name": "stdout",
     "output_type": "stream",
     "text": [
      "{'name': 'Oshan', 'Age': 21, 'grade': 'BE'}\n"
     ]
    }
   ],
   "source": [
    "dis={'name':\"Oshan\",\n",
    "     \"Age\":21,\n",
    "     \"grade\":\"BE\"}\n",
    "print(dis)"
   ]
  },
  {
   "cell_type": "markdown",
   "id": "3324e2e3",
   "metadata": {},
   "source": [
    "### Q39: (Dictionaries)\n",
    "Access the age from the dictionary."
   ]
  },
  {
   "cell_type": "code",
   "execution_count": 110,
   "id": "560006c0",
   "metadata": {},
   "outputs": [
    {
     "name": "stdout",
     "output_type": "stream",
     "text": [
      "21\n"
     ]
    }
   ],
   "source": [
    "print(dis[\"Age\"])"
   ]
  },
  {
   "cell_type": "markdown",
   "id": "da22fe81",
   "metadata": {},
   "source": [
    "### Q40: (Dictionaries)\n",
    "Update the grade of the student."
   ]
  },
  {
   "cell_type": "code",
   "execution_count": 111,
   "id": "5d481678",
   "metadata": {},
   "outputs": [
    {
     "name": "stdout",
     "output_type": "stream",
     "text": [
      "{'name': 'Oshan', 'Age': 21, 'grade': 12}\n"
     ]
    }
   ],
   "source": [
    "dis[\"grade\"] = 12\n",
    "print(dis)"
   ]
  },
  {
   "cell_type": "markdown",
   "id": "3496f8fd",
   "metadata": {},
   "source": [
    "### Q41: (Dictionaries)\n",
    "Add a new key 'subject' to the dictionary."
   ]
  },
  {
   "cell_type": "code",
   "execution_count": 114,
   "id": "ae01bb44",
   "metadata": {},
   "outputs": [
    {
     "name": "stdout",
     "output_type": "stream",
     "text": [
      "{'name': 'Oshan', 'Age': 21, 'grade': 12, 'city': 'KTM'}\n"
     ]
    }
   ],
   "source": [
    "dis[\"city\"] = \"KTM\"\n",
    "print(dis)"
   ]
  },
  {
   "cell_type": "markdown",
   "id": "99540b8b",
   "metadata": {},
   "source": [
    "### Q42: (Indexing and Slicing)\n",
    "Create a list of numbers and print elements from index 1 to 4."
   ]
  },
  {
   "cell_type": "code",
   "execution_count": 117,
   "id": "949f355a",
   "metadata": {},
   "outputs": [
    {
     "name": "stdout",
     "output_type": "stream",
     "text": [
      "[1, 2, 3, 4]\n"
     ]
    }
   ],
   "source": [
    "lst=[1,2,3,4,\"jdjj\",3.3,True]\n",
    "print(lst[:4])\n"
   ]
  },
  {
   "cell_type": "markdown",
   "id": "5ac04cc4",
   "metadata": {},
   "source": [
    "### Q43: (Indexing and Slicing)\n",
    "Access every second element in the list."
   ]
  },
  {
   "cell_type": "code",
   "execution_count": 118,
   "id": "a8b98caf",
   "metadata": {},
   "outputs": [
    {
     "name": "stdout",
     "output_type": "stream",
     "text": [
      "[1, 3, 'jdjj', True]\n"
     ]
    }
   ],
   "source": [
    "lst=[1,2,3,4,\"jdjj\",3.3,True]\n",
    "print(lst[::2])\n"
   ]
  },
  {
   "cell_type": "markdown",
   "id": "e3839415",
   "metadata": {},
   "source": [
    "### Q44: (Indexing and Slicing)\n",
    "Print the last three characters of the string 'Programming'."
   ]
  },
  {
   "cell_type": "code",
   "execution_count": 128,
   "id": "edbace21",
   "metadata": {},
   "outputs": [
    {
     "name": "stdout",
     "output_type": "stream",
     "text": [
      "ing\n"
     ]
    }
   ],
   "source": [
    "string=\"Programming\"\n",
    "a=string[len(string)-3:len(string)]\n",
    "print(a)\n"
   ]
  },
  {
   "cell_type": "markdown",
   "id": "63a113fd",
   "metadata": {},
   "source": [
    "### Q45: (Nested Structures)\n",
    "Create a nested list and print the second element of the first list."
   ]
  },
  {
   "cell_type": "code",
   "execution_count": 130,
   "id": "44952db5",
   "metadata": {},
   "outputs": [
    {
     "name": "stdout",
     "output_type": "stream",
     "text": [
      "[2, 5, 6]\n"
     ]
    }
   ],
   "source": [
    "lis=[1,2,3,[2,5,6]]\n",
    "print(lis[3])"
   ]
  },
  {
   "cell_type": "markdown",
   "id": "4ba85ec0",
   "metadata": {},
   "source": [
    "### Q46: (Nested Structures)\n",
    "Create a nested dictionary and access a nested value."
   ]
  },
  {
   "cell_type": "code",
   "execution_count": 132,
   "id": "c61664b0",
   "metadata": {},
   "outputs": [
    {
     "name": "stdout",
     "output_type": "stream",
     "text": [
      "Oshan\n"
     ]
    }
   ],
   "source": [
    "dis={\n",
    "    \"person1\":{\"name\":\"Oshan\"},\n",
    "    \"person2\":{\"name\":\"Bibek\"},\n",
    "    \"person3\":{\"name\":\"Shankha\"},\n",
    "    \"person4\":{\"name\":\"Priya\"}\n",
    "\n",
    "}\n",
    "print(dis[\"person1\"][\"name\"])"
   ]
  },
  {
   "cell_type": "markdown",
   "id": "8cb0baee",
   "metadata": {},
   "source": [
    "### Q47: (NumPy Basics)\n",
    "Import numpy and create a 1D array from 0 to 9."
   ]
  },
  {
   "cell_type": "code",
   "execution_count": 139,
   "id": "83f5ab2d",
   "metadata": {},
   "outputs": [
    {
     "data": {
      "text/plain": [
       "array([0, 1, 2, 3, 4, 5, 6, 7, 8, 9])"
      ]
     },
     "execution_count": 139,
     "metadata": {},
     "output_type": "execute_result"
    }
   ],
   "source": [
    "import numpy as np\n",
    "np.array([0,1,2,3,4,5,6,7,8,9])"
   ]
  },
  {
   "cell_type": "markdown",
   "id": "601eb4aa",
   "metadata": {},
   "source": [
    "### Q48: (NumPy Basics)\n",
    "Create a 2D array with shape (2,3)."
   ]
  },
  {
   "cell_type": "code",
   "execution_count": null,
   "id": "9c499c37",
   "metadata": {},
   "outputs": [
    {
     "name": "stdout",
     "output_type": "stream",
     "text": [
      "(2, 3)\n"
     ]
    }
   ],
   "source": [
    "arr=np.array([[1,2,3],[4,5,6]])\n"
   ]
  },
  {
   "cell_type": "markdown",
   "id": "9390f908",
   "metadata": {},
   "source": [
    "### Q49: (NumPy Basics)\n",
    "Print the shape and dtype of an array."
   ]
  },
  {
   "cell_type": "code",
   "execution_count": 141,
   "id": "31c66039",
   "metadata": {},
   "outputs": [
    {
     "name": "stdout",
     "output_type": "stream",
     "text": [
      "(2, 3)\n",
      "int64\n"
     ]
    }
   ],
   "source": [
    "print(arr.shape)\n",
    "print(arr.dtype)"
   ]
  },
  {
   "cell_type": "markdown",
   "id": "098f024d",
   "metadata": {},
   "source": [
    "### Q50: (NumPy Basics)\n",
    "Use np.linspace to create 5 values from 1 to 10."
   ]
  },
  {
   "cell_type": "code",
   "execution_count": 156,
   "id": "e85a5db3",
   "metadata": {},
   "outputs": [
    {
     "name": "stdout",
     "output_type": "stream",
     "text": [
      "[ 1.  2.  3.  4.  5.  6.  7.  8.  9. 10.]\n"
     ]
    },
    {
     "data": {
      "text/plain": [
       "array([ 1.  ,  3.25,  5.5 ,  7.75, 10.  ])"
      ]
     },
     "execution_count": 156,
     "metadata": {},
     "output_type": "execute_result"
    }
   ],
   "source": [
    "\n",
    "arr = np.linspace(1, 10, num=10)\n",
    "print(arr)\n",
    "np.linspace(1, 10, 5)\n"
   ]
  },
  {
   "cell_type": "markdown",
   "id": "322eda7a",
   "metadata": {},
   "source": [
    "### Q51: (NumPy Basics)\n",
    "Generate a random array of shape (3,3)."
   ]
  },
  {
   "cell_type": "code",
   "execution_count": 154,
   "id": "58c9844e",
   "metadata": {},
   "outputs": [
    {
     "name": "stdout",
     "output_type": "stream",
     "text": [
      "[[52  2 49]\n",
      " [ 8 61 45]\n",
      " [51 22 34]]\n"
     ]
    }
   ],
   "source": [
    "import random as ran\n",
    "\n",
    "arr=np.random.randint(1,99,size=(3,3))\n",
    "print(arr)"
   ]
  },
  {
   "cell_type": "markdown",
   "id": "f5212299",
   "metadata": {},
   "source": [
    "### Q52: (NumPy Basics)\n",
    "Find the maximum and mean of a numpy array."
   ]
  },
  {
   "cell_type": "code",
   "execution_count": 148,
   "id": "fa5bfd48",
   "metadata": {},
   "outputs": [
    {
     "name": "stdout",
     "output_type": "stream",
     "text": [
      "6\n",
      "3.5\n"
     ]
    }
   ],
   "source": [
    "print(arr.max())\n",
    "print(arr.mean())"
   ]
  },
  {
   "cell_type": "markdown",
   "id": "3321a13c",
   "metadata": {},
   "source": [
    "### Q53: (NumPy Basics)\n",
    "Access element at row 1, col 2 in a 2D array."
   ]
  },
  {
   "cell_type": "code",
   "execution_count": 144,
   "id": "405953b3",
   "metadata": {},
   "outputs": [
    {
     "name": "stdout",
     "output_type": "stream",
     "text": [
      "2\n"
     ]
    }
   ],
   "source": [
    "print(arr[0,1])"
   ]
  },
  {
   "cell_type": "markdown",
   "id": "10459ec9",
   "metadata": {},
   "source": [
    "### Q54: (NumPy Basics)\n",
    "Flatten a 2D array."
   ]
  },
  {
   "cell_type": "code",
   "execution_count": 146,
   "id": "dd3563f5",
   "metadata": {},
   "outputs": [
    {
     "name": "stdout",
     "output_type": "stream",
     "text": [
      "[1 2 3 4 5 6]\n"
     ]
    }
   ],
   "source": [
    "print(arr.flatten())"
   ]
  },
  {
   "cell_type": "markdown",
   "id": "85fed543",
   "metadata": {},
   "source": [
    "### Q55: (NumPy Basics)\n",
    "Stack two arrays vertically."
   ]
  },
  {
   "cell_type": "code",
   "execution_count": 158,
   "id": "6e025b59",
   "metadata": {},
   "outputs": [
    {
     "name": "stdout",
     "output_type": "stream",
     "text": [
      "[[1 2 3]\n",
      " [4 5 6]]\n"
     ]
    }
   ],
   "source": [
    "a = np.array([1, 2, 3])\n",
    "b = np.array([4, 5, 6])\n",
    "result = np.vstack((a, b))\n",
    "print(result)\n"
   ]
  },
  {
   "cell_type": "markdown",
   "id": "b42406ff",
   "metadata": {},
   "source": [
    "### Q56: (NumPy Basics)\n",
    "Slice the first two rows of a 2D numpy array."
   ]
  },
  {
   "cell_type": "code",
   "execution_count": null,
   "id": "5761da43",
   "metadata": {},
   "outputs": [
    {
     "data": {
      "text/plain": [
       "array([], shape=(0, 3), dtype=int64)"
      ]
     },
     "execution_count": 149,
     "metadata": {},
     "output_type": "execute_result"
    }
   ],
   "source": [
    "print(arr[1:4])"
   ]
  },
  {
   "cell_type": "markdown",
   "id": "3fd758ea",
   "metadata": {},
   "source": [
    "### Q57: (NumPy Basics)\n",
    "Slice the first two rows of a 2D numpy array."
   ]
  },
  {
   "cell_type": "code",
   "execution_count": 163,
   "id": "30c54905",
   "metadata": {},
   "outputs": [
    {
     "data": {
      "text/plain": [
       "array([[1, 2, 3],\n",
       "       [4, 5, 6]])"
      ]
     },
     "execution_count": 163,
     "metadata": {},
     "output_type": "execute_result"
    }
   ],
   "source": [
    "arr[0:2, :]\n"
   ]
  },
  {
   "cell_type": "markdown",
   "id": "c0ca2516",
   "metadata": {},
   "source": [
    "### Q58: (NumPy Basics)\n",
    "Print the shape and dtype of an array."
   ]
  },
  {
   "cell_type": "code",
   "execution_count": 162,
   "id": "9b5c0ea6",
   "metadata": {},
   "outputs": [
    {
     "name": "stdout",
     "output_type": "stream",
     "text": [
      "(3, 3)\n",
      "int64\n"
     ]
    }
   ],
   "source": [
    "arr = np.array([[1, 2, 3],\n",
    "              [4, 5, 6],\n",
    "              [7, 8, 9]])\n",
    "print(arr.shape)\n",
    "print(arr.dtype)"
   ]
  },
  {
   "cell_type": "markdown",
   "id": "59015fbd",
   "metadata": {},
   "source": [
    "### Q59: (String Operations)\n",
    "Repeat the word 'Yes' 4 times using *."
   ]
  },
  {
   "cell_type": "code",
   "execution_count": null,
   "id": "80a1bacd",
   "metadata": {},
   "outputs": [],
   "source": [
    "print(\"yes\"*4)"
   ]
  },
  {
   "cell_type": "markdown",
   "id": "63be7148",
   "metadata": {},
   "source": [
    "### Q60: (Variable and Data Types)\n",
    "Use multiple assignment to assign 3 values to a, b, c."
   ]
  },
  {
   "cell_type": "code",
   "execution_count": null,
   "id": "ce3c912f",
   "metadata": {},
   "outputs": [],
   "source": [
    "a,b,c=1,1,2"
   ]
  },
  {
   "cell_type": "markdown",
   "id": "6a3810a9",
   "metadata": {},
   "source": [
    "### Q61: (Dictionaries)\n",
    "Add a new key 'subject' to the dictionary."
   ]
  },
  {
   "cell_type": "code",
   "execution_count": null,
   "id": "27b4e368",
   "metadata": {},
   "outputs": [],
   "source": [
    "dis['subject']=\"Python\""
   ]
  },
  {
   "cell_type": "markdown",
   "id": "73c9d25c",
   "metadata": {},
   "source": [
    "### Q62: (Variable and Data Types)\n",
    "Assign the value 10 to x and then add 5 to it. Print the result."
   ]
  },
  {
   "cell_type": "code",
   "execution_count": 164,
   "id": "56d627e6",
   "metadata": {},
   "outputs": [
    {
     "name": "stdout",
     "output_type": "stream",
     "text": [
      "15\n"
     ]
    }
   ],
   "source": [
    "num=int(input(\"enter num :\"))\n",
    "num=num+10\n",
    "print(num)"
   ]
  },
  {
   "cell_type": "markdown",
   "id": "9f589b52",
   "metadata": {},
   "source": [
    "### Q63: (Nested Structures)\n",
    "Create a nested list and print the second element of the first list."
   ]
  },
  {
   "cell_type": "code",
   "execution_count": 165,
   "id": "d969ac92",
   "metadata": {},
   "outputs": [
    {
     "name": "stdout",
     "output_type": "stream",
     "text": [
      "2\n"
     ]
    }
   ],
   "source": [
    "lis=[1,2,3,[2,5,6]]\n",
    "print(lis[3][0])"
   ]
  },
  {
   "cell_type": "markdown",
   "id": "8f60f598",
   "metadata": {},
   "source": [
    "### Q64: (Loops)\n",
    "Print the characters of a string one by one using a loop."
   ]
  },
  {
   "cell_type": "code",
   "execution_count": null,
   "id": "5aa737d5",
   "metadata": {},
   "outputs": [],
   "source": [
    "lis=[1,2,3,[2,5,6]]\n",
    "print(lis[3])"
   ]
  },
  {
   "cell_type": "markdown",
   "id": "e3beb30b",
   "metadata": {},
   "source": [
    "### Q65: (Sets)\n",
    "Try adding a duplicate and print the set."
   ]
  },
  {
   "cell_type": "code",
   "execution_count": null,
   "id": "389007f3",
   "metadata": {},
   "outputs": [],
   "source": [
    "SET={3}\n",
    "SET.add(3)\n",
    "print(SET)\n"
   ]
  },
  {
   "cell_type": "markdown",
   "id": "6eaf1634",
   "metadata": {},
   "source": [
    "### Q66: (NumPy Basics)\n",
    "Flatten a 2D array."
   ]
  },
  {
   "cell_type": "code",
   "execution_count": null,
   "id": "debcbc69",
   "metadata": {},
   "outputs": [],
   "source": [
    "arr.flatten()"
   ]
  },
  {
   "cell_type": "markdown",
   "id": "8b710609",
   "metadata": {},
   "source": [
    "### Q67: (Printing and Input)\n",
    "Ask for a favorite color and print it twice using multiplication."
   ]
  },
  {
   "cell_type": "code",
   "execution_count": null,
   "id": "94eb9f7d",
   "metadata": {},
   "outputs": [],
   "source": [
    "colr=input(\"enter color\")\n",
    "print(f_color*2)"
   ]
  },
  {
   "cell_type": "markdown",
   "id": "919bd661",
   "metadata": {},
   "source": [
    "### Q68: (String Operations)\n",
    "Repeat the word 'Yes' 4 times using *."
   ]
  },
  {
   "cell_type": "code",
   "execution_count": null,
   "id": "46d300ae",
   "metadata": {},
   "outputs": [],
   "source": [
    "print(\"yes\"*4)"
   ]
  },
  {
   "cell_type": "markdown",
   "id": "586e35f5",
   "metadata": {},
   "source": [
    "### Q69: (Printing and Input)\n",
    "Ask for a favorite color and print it twice using multiplication."
   ]
  },
  {
   "cell_type": "code",
   "execution_count": null,
   "id": "fafd8533",
   "metadata": {},
   "outputs": [],
   "source": [
    "colr=input(\"enter color\")\n",
    "print(f_color*2)"
   ]
  },
  {
   "cell_type": "markdown",
   "id": "3d83eb40",
   "metadata": {},
   "source": [
    "### Q70: (If-Else and Comparisons)\n",
    "Check if a number is even or odd."
   ]
  },
  {
   "cell_type": "code",
   "execution_count": null,
   "id": "563efb02",
   "metadata": {},
   "outputs": [],
   "source": [
    "a=2\n",
    "if a%2==0:\n",
    "    print(\"even\")\n",
    "else:\n",
    "    print(\"odd\")"
   ]
  },
  {
   "cell_type": "markdown",
   "id": "d8557f87",
   "metadata": {},
   "source": [
    "### Q71: (NumPy Basics)\n",
    "Import numpy and create a 1D array from 0 to 9."
   ]
  },
  {
   "cell_type": "code",
   "execution_count": null,
   "id": "78ed5b9c",
   "metadata": {},
   "outputs": [],
   "source": [
    "import numpy as np\n",
    "D1=np.array([0,1,2,3,4,5,6,7,8,9])"
   ]
  },
  {
   "cell_type": "markdown",
   "id": "98d24946",
   "metadata": {},
   "source": [
    "### Q72: (Loops)\n",
    "Use a while loop to print numbers from 5 to 1."
   ]
  },
  {
   "cell_type": "code",
   "execution_count": 174,
   "id": "1ee71489",
   "metadata": {},
   "outputs": [
    {
     "name": "stdout",
     "output_type": "stream",
     "text": [
      "5\n",
      "4\n",
      "3\n",
      "2\n",
      "1\n"
     ]
    }
   ],
   "source": [
    "n=5\n",
    "while(n>=1):\n",
    "  print(n)\n",
    "  n=n-1"
   ]
  },
  {
   "cell_type": "markdown",
   "id": "80e2a7ca",
   "metadata": {},
   "source": [
    "### Q73: (If-Else and Comparisons)\n",
    "Check if the number 12 is greater than 10 and print a message."
   ]
  },
  {
   "cell_type": "code",
   "execution_count": 175,
   "id": "92132b21",
   "metadata": {},
   "outputs": [
    {
     "name": "stdout",
     "output_type": "stream",
     "text": [
      "12 is greater than 10\n"
     ]
    }
   ],
   "source": [
    "if 12>10:\n",
    "    print(\"12 is greater than 10\")\n",
    "else:\n",
    "    print(\"12 is not greater than 10\")"
   ]
  },
  {
   "cell_type": "markdown",
   "id": "abe92348",
   "metadata": {},
   "source": [
    "### Q74: (Indexing and Slicing)\n",
    "Access every second element in the list."
   ]
  },
  {
   "cell_type": "code",
   "execution_count": 167,
   "id": "92b589eb",
   "metadata": {},
   "outputs": [
    {
     "name": "stdout",
     "output_type": "stream",
     "text": [
      "[3, 4, 5]\n"
     ]
    }
   ],
   "source": [
    "lis=[1,2,[3,4,5]]\n",
    "print(lis[2])"
   ]
  },
  {
   "cell_type": "markdown",
   "id": "c5b670db",
   "metadata": {},
   "source": [
    "### Q75: (Loops)\n",
    "Use a while loop to print numbers from 5 to 1."
   ]
  },
  {
   "cell_type": "code",
   "execution_count": 176,
   "id": "b8e89cf1",
   "metadata": {},
   "outputs": [
    {
     "name": "stdout",
     "output_type": "stream",
     "text": [
      "5\n",
      "4\n",
      "3\n",
      "2\n",
      "1\n"
     ]
    }
   ],
   "source": [
    "n=5\n",
    "while(n>=1):\n",
    "  print(n)\n",
    "  n=n-1"
   ]
  },
  {
   "cell_type": "markdown",
   "id": "c4f821ef",
   "metadata": {},
   "source": [
    "### Q76: (Printing and Input)\n",
    "Print the result of 10 + 20."
   ]
  },
  {
   "cell_type": "code",
   "execution_count": null,
   "id": "e929a34c",
   "metadata": {},
   "outputs": [],
   "source": [
    "print(10+20)"
   ]
  },
  {
   "cell_type": "markdown",
   "id": "fcbda71a",
   "metadata": {},
   "source": [
    "### Q77: (Printing and Input)\n",
    "Ask for a favorite color and print it twice using multiplication."
   ]
  },
  {
   "cell_type": "code",
   "execution_count": null,
   "id": "683693c9",
   "metadata": {},
   "outputs": [],
   "source": [
    "colr=input(\"enter color\")\n",
    "print(f_color*2)"
   ]
  },
  {
   "cell_type": "markdown",
   "id": "895821ab",
   "metadata": {},
   "source": [
    "### Q78: (Lists)\n",
    "Remove the first item of the list and print the rest."
   ]
  },
  {
   "cell_type": "code",
   "execution_count": 177,
   "id": "7293b340",
   "metadata": {},
   "outputs": [
    {
     "name": "stdout",
     "output_type": "stream",
     "text": [
      "[2, 3]\n"
     ]
    }
   ],
   "source": [
    "lsi=[1,2,3]\n",
    "lsi.remove(1)\n",
    "print(lsi)"
   ]
  },
  {
   "cell_type": "markdown",
   "id": "16a008e4",
   "metadata": {},
   "source": [
    "### Q79: (NumPy Basics)\n",
    "Use np.linspace to create 5 values from 1 to 10."
   ]
  },
  {
   "cell_type": "code",
   "execution_count": null,
   "id": "6b048475",
   "metadata": {},
   "outputs": [],
   "source": [
    "import numpy as np\n",
    "\n",
    "arr = np.linspace(1, 10, num=10) \n",
    "print(arr)\n",
    "\n",
    "np.linspace(1, 10, 5)\n",
    "\n"
   ]
  },
  {
   "cell_type": "markdown",
   "id": "c09c1661",
   "metadata": {},
   "source": [
    "### Q80: (Complex Numbers)\n",
    "Create complex numbers x = 2+3j and y = 4-2j. Print their sum."
   ]
  },
  {
   "cell_type": "code",
   "execution_count": null,
   "id": "b102bdc8",
   "metadata": {},
   "outputs": [],
   "source": [
    "x=2+3j\n",
    "y=4-2j\n",
    "print(x+y)"
   ]
  },
  {
   "cell_type": "markdown",
   "id": "65c6fe14",
   "metadata": {},
   "source": [
    "### Q81: (Printing and Input)\n",
    "Ask for a favorite color and print it twice using multiplication."
   ]
  },
  {
   "cell_type": "code",
   "execution_count": null,
   "id": "8e180fa7",
   "metadata": {},
   "outputs": [],
   "source": [
    "colr=input(\"enter color\")\n",
    "print(f_color*2)"
   ]
  },
  {
   "cell_type": "markdown",
   "id": "e3a2cd03",
   "metadata": {},
   "source": [
    "### Q82: (Complex Numbers)\n",
    "Create complex numbers x = 2+3j and y = 4-2j. Print their sum."
   ]
  },
  {
   "cell_type": "code",
   "execution_count": null,
   "id": "61f21249",
   "metadata": {},
   "outputs": [],
   "source": [
    "x=2+3j\n",
    "y=4-2j\n",
    "print(x+y)"
   ]
  },
  {
   "cell_type": "markdown",
   "id": "6c0d32cd",
   "metadata": {},
   "source": [
    "### Q83: (Dictionaries)\n",
    "Access the age from the dictionary."
   ]
  },
  {
   "cell_type": "code",
   "execution_count": null,
   "id": "429588c5",
   "metadata": {},
   "outputs": [],
   "source": [
    "print(dis[\"Age\"])"
   ]
  },
  {
   "cell_type": "markdown",
   "id": "bb072d6a",
   "metadata": {},
   "source": [
    "### Q84: (Lists)\n",
    "Create a list of 5 fruits and print the third item."
   ]
  },
  {
   "cell_type": "code",
   "execution_count": null,
   "id": "28eb7291",
   "metadata": {},
   "outputs": [],
   "source": [
    "fri=['apple',\"banana\",\"mango\",\"lichi\",\"sother\"]\n",
    "print(fri[2])"
   ]
  },
  {
   "cell_type": "markdown",
   "id": "d402f11b",
   "metadata": {},
   "source": [
    "### Q85: (NumPy Basics)\n",
    "Stack two arrays vertically."
   ]
  },
  {
   "cell_type": "code",
   "execution_count": null,
   "id": "7e8283e6",
   "metadata": {},
   "outputs": [],
   "source": [
    "a = np.array([[1, 2], [3, 4]])\n",
    "b = np.array([[5, 6]])\n",
    "\n",
    "result = np.vstack((a, b))\n",
    "print(result)\n"
   ]
  },
  {
   "cell_type": "markdown",
   "id": "0e85c9bb",
   "metadata": {},
   "source": [
    "### Q86: (Loops)\n",
    "Use a while loop to print numbers from 5 to 1."
   ]
  },
  {
   "cell_type": "code",
   "execution_count": null,
   "id": "60990e05",
   "metadata": {},
   "outputs": [],
   "source": [
    "n=5\n",
    "while(n>=1):\n",
    "  print(n)\n",
    "  n=n-1"
   ]
  },
  {
   "cell_type": "markdown",
   "id": "ee95fb1e",
   "metadata": {},
   "source": [
    "### Q87: (Lists)\n",
    "Remove the first item of the list and print the rest."
   ]
  },
  {
   "cell_type": "code",
   "execution_count": null,
   "id": "68ec305a",
   "metadata": {},
   "outputs": [],
   "source": [
    "lsi=[1,2,3]\n",
    "lsi.remove(1)\n",
    "print(lsi)"
   ]
  },
  {
   "cell_type": "markdown",
   "id": "2e9a3666",
   "metadata": {},
   "source": [
    "### Q88: (Lists)\n",
    "Create a list of 5 fruits and print the third item."
   ]
  },
  {
   "cell_type": "code",
   "execution_count": null,
   "id": "dd40a37b",
   "metadata": {},
   "outputs": [],
   "source": [
    "friut =[\"apple\",'banana',\"man\",\"lichi\",\"pineapple\"]\n",
    "friut.append(\"mango\")\n",
    "print(friut)"
   ]
  },
  {
   "cell_type": "markdown",
   "id": "b0ca2b3f",
   "metadata": {},
   "source": [
    "### Q89: (Printing and Input)\n",
    "Ask for a favorite color and print it twice using multiplication."
   ]
  },
  {
   "cell_type": "code",
   "execution_count": null,
   "id": "d36639ea",
   "metadata": {},
   "outputs": [],
   "source": [
    "colr=input(\"enter color\")\n",
    "print(f_color*2)"
   ]
  },
  {
   "cell_type": "markdown",
   "id": "fef04f52",
   "metadata": {},
   "source": [
    "### Q90: (Tuples)\n",
    "Convert a tuple to a list, change a value, and convert it back."
   ]
  },
  {
   "cell_type": "code",
   "execution_count": null,
   "id": "9ba06174",
   "metadata": {},
   "outputs": [],
   "source": [
    "\n",
    "tup =(1, 2, 3, 4)\n",
    "a = list(tup)\n",
    "a[2] = 8\n",
    "tup1 = tuple(a)  \n",
    "print(tup1)\n",
    "\n",
    "\n"
   ]
  },
  {
   "cell_type": "markdown",
   "id": "e9b6c054",
   "metadata": {},
   "source": [
    "### Q91: (NumPy Basics)\n",
    "Import numpy and create a 1D array from 0 to 9."
   ]
  },
  {
   "cell_type": "code",
   "execution_count": null,
   "id": "89803c5d",
   "metadata": {},
   "outputs": [],
   "source": [
    "import numpy as np\n",
    "a=np.arr([0,1,2,3,4,5,6,7,8,9])"
   ]
  },
  {
   "cell_type": "markdown",
   "id": "64b36a8c",
   "metadata": {},
   "source": [
    "### Q92: (Variable and Data Types)\n",
    "Use multiple assignment to assign 3 values to a, b, c."
   ]
  },
  {
   "cell_type": "code",
   "execution_count": null,
   "id": "c514add9",
   "metadata": {},
   "outputs": [],
   "source": [
    "a,b,c=1,2,3"
   ]
  },
  {
   "cell_type": "markdown",
   "id": "4a7e08ed",
   "metadata": {},
   "source": [
    "### Q93: (Variable and Data Types)\n",
    "Check the type of variable `val = 3.14`."
   ]
  },
  {
   "cell_type": "code",
   "execution_count": null,
   "id": "ecb1e98a",
   "metadata": {},
   "outputs": [],
   "source": [
    "val = 3.14\n",
    "print(type(val))"
   ]
  },
  {
   "cell_type": "markdown",
   "id": "871b932c",
   "metadata": {},
   "source": [
    "### Q94: (Tuples)\n",
    "Convert a tuple to a list, change a value, and convert it back."
   ]
  },
  {
   "cell_type": "code",
   "execution_count": null,
   "id": "19469256",
   "metadata": {},
   "outputs": [],
   "source": [
    "\n",
    "tup =(1, 2, 3, 4)\n",
    "a = list(tup)\n",
    "a[2] = 8\n",
    "tup1 = tuple(a)  \n",
    "print(tup1)\n",
    "\n",
    "\n"
   ]
  },
  {
   "cell_type": "markdown",
   "id": "16996993",
   "metadata": {},
   "source": [
    "### Q95: (If-Else and Comparisons)\n",
    "Compare two input numbers and print which is larger."
   ]
  },
  {
   "cell_type": "code",
   "execution_count": null,
   "id": "097c78f6",
   "metadata": {},
   "outputs": [],
   "source": [
    "num = int(input(\"Enter a number: \"))\n",
    "if num % 2 == 0:\n",
    "    print(f\"{num} is an even number\")\n",
    "else:\n",
    "    print(f\"{num} is an odd number\")"
   ]
  },
  {
   "cell_type": "markdown",
   "id": "b861f549",
   "metadata": {},
   "source": [
    "### Q96: (Sets)\n",
    "Try adding a duplicate and print the set."
   ]
  },
  {
   "cell_type": "code",
   "execution_count": 178,
   "id": "5c1b81bc",
   "metadata": {},
   "outputs": [
    {
     "name": "stdout",
     "output_type": "stream",
     "text": [
      "{1, 2, 3}\n"
     ]
    }
   ],
   "source": [
    "set={1,2,3}\n",
    "set.add(3)\n",
    "print(set)"
   ]
  },
  {
   "cell_type": "markdown",
   "id": "0b7190e2",
   "metadata": {},
   "source": [
    "### Q97: (Dictionaries)\n",
    "Access the age from the dictionary."
   ]
  },
  {
   "cell_type": "code",
   "execution_count": null,
   "id": "2778ae4d",
   "metadata": {},
   "outputs": [],
   "source": [
    "print(dis[\"Age\"])"
   ]
  },
  {
   "cell_type": "markdown",
   "id": "cb79fa11",
   "metadata": {},
   "source": [
    "### Q98: (Lists)\n",
    "Add 'mango' to the list and print."
   ]
  },
  {
   "cell_type": "code",
   "execution_count": null,
   "id": "62a5052c",
   "metadata": {},
   "outputs": [],
   "source": [
    "friut =[\"apple\",'banana',\"man\",\"lichi\",\"pineapple\"]\n",
    "friut.append(\"mango\")\n",
    "print(friut)"
   ]
  },
  {
   "cell_type": "markdown",
   "id": "0a12cf5e",
   "metadata": {},
   "source": [
    "### Q99: (Sets)\n",
    "Create a set of 3 elements and add one more element."
   ]
  },
  {
   "cell_type": "code",
   "execution_count": null,
   "id": "4e3efaae",
   "metadata": {},
   "outputs": [],
   "source": [
    "set={1,2,3}\n",
    "set.add(4)\n",
    "print(set)"
   ]
  },
  {
   "cell_type": "markdown",
   "id": "3c728fd4",
   "metadata": {},
   "source": [
    "### Q100: (If-Else and Comparisons)\n",
    "Compare two input numbers and print which is larger."
   ]
  },
  {
   "cell_type": "code",
   "execution_count": null,
   "id": "7604bebe",
   "metadata": {},
   "outputs": [],
   "source": [
    "num1 = int(input(\"Enter a number: \"))\n",
    "num2 = int(input(\"Enter another number: \"))\n",
    "if num1 > num2:\n",
    "    print(f\"{num1} is greater than {num2}\")\n",
    "elif num1 < num2:\n",
    "    print(f\"{num1} is less than {num2}\")\n",
    "else:\n",
    "    print(f\"{num1} is equal to {num2}\")\n"
   ]
  }
 ],
 "metadata": {
  "kernelspec": {
   "display_name": "Python 3",
   "language": "python",
   "name": "python3"
  },
  "language_info": {
   "codemirror_mode": {
    "name": "ipython",
    "version": 3
   },
   "file_extension": ".py",
   "mimetype": "text/x-python",
   "name": "python",
   "nbconvert_exporter": "python",
   "pygments_lexer": "ipython3",
   "version": "3.12.6"
  }
 },
 "nbformat": 4,
 "nbformat_minor": 5
}
