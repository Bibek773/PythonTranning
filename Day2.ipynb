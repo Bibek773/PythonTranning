{
 "cells": [
  {
   "cell_type": "code",
   "execution_count": 42,
   "id": "fa150fcf",
   "metadata": {},
   "outputs": [
    {
     "name": "stdout",
     "output_type": "stream",
     "text": [
      "coconut\n",
      "['apple', 'bananba', 'orange']\n",
      "['bananba', 'orange']\n",
      "['__add__', '__class__', '__class_getitem__', '__contains__', '__delattr__', '__delitem__', '__dir__', '__doc__', '__eq__', '__format__', '__ge__', '__getattribute__', '__getitem__', '__getstate__', '__gt__', '__hash__', '__iadd__', '__imul__', '__init__', '__init_subclass__', '__iter__', '__le__', '__len__', '__lt__', '__mul__', '__ne__', '__new__', '__reduce__', '__reduce_ex__', '__repr__', '__reversed__', '__rmul__', '__setattr__', '__setitem__', '__sizeof__', '__str__', '__subclasshook__', 'append', 'clear', 'copy', 'count', 'extend', 'index', 'insert', 'pop', 'remove', 'reverse', 'sort']\n",
      "4\n"
     ]
    }
   ],
   "source": [
    "fruits = [\"apple\",\"bananba\",\"orange\",\"coconut\"]\n",
    "print(fruits[3])\n",
    "print(fruits[0:3])\n",
    "print(fruits[1:-1])\n",
    "print(dir(fruits))\n",
    "print(len(fruits))\n",
    "\n"
   ]
  },
  {
   "cell_type": "code",
   "execution_count": 43,
   "id": "d7c9a477",
   "metadata": {},
   "outputs": [
    {
     "name": "stdout",
     "output_type": "stream",
     "text": [
      "['abc', 'pineapple', 'bananba', 'orange', 'coconut', 'apple']\n"
     ]
    }
   ],
   "source": [
    "fruits[0]=\"abc\"\n",
    "fruits.append(\"apple\")\n",
    "fruits.insert(1,\"pineapple\")\n",
    "print(fruits)"
   ]
  },
  {
   "cell_type": "code",
   "execution_count": 44,
   "id": "5fae7cc8",
   "metadata": {},
   "outputs": [
    {
     "name": "stdout",
     "output_type": "stream",
     "text": [
      "['abc', 'apple', 'bananba', 'coconut', 'orange', 'pineapple']\n",
      "3\n",
      "1\n",
      "[]\n"
     ]
    }
   ],
   "source": [
    "fruits.sort()\n",
    "print(fruits)\n",
    "print(fruits.index(\"coconut\"))\n",
    "print(fruits.count(\"coconut\"))\n",
    "fruits.clear()\n",
    "print(fruits)"
   ]
  },
  {
   "cell_type": "code",
   "execution_count": 45,
   "id": "590697b1",
   "metadata": {},
   "outputs": [
    {
     "name": "stdout",
     "output_type": "stream",
     "text": [
      "True\n",
      "True\n",
      "False\n",
      "True\n"
     ]
    }
   ],
   "source": [
    "list=[1,2,3,[4,5]]\n",
    "print(1 in list)\n",
    "print([4,5] in list)\n",
    "print(4 in list)\n",
    "print(4 in list[3])"
   ]
  },
  {
   "cell_type": "code",
   "execution_count": 46,
   "id": "634acde0",
   "metadata": {},
   "outputs": [
    {
     "name": "stdout",
     "output_type": "stream",
     "text": [
      "[4, 5, [6, 7, 8], 9]\n",
      "[6, 7, 8]\n",
      "7\n"
     ]
    }
   ],
   "source": [
    "list1=[1,2,3,[4,5,[6,7,8],9]]\n",
    "print(list1[3])\n",
    "print(list1[3][2])\n",
    "print(list1[3][2][1])"
   ]
  },
  {
   "cell_type": "code",
   "execution_count": 47,
   "id": "cce1c50c",
   "metadata": {},
   "outputs": [
    {
     "name": "stdout",
     "output_type": "stream",
     "text": [
      "['APPLE', 'BANANA', 'ORANGE']\n"
     ]
    }
   ],
   "source": [
    "word = ['apple', 'banana', 'orange']\n",
    "uppercase = [word.upper() for word in word]\n",
    "print(uppercase)"
   ]
  },
  {
   "cell_type": "code",
   "execution_count": null,
   "id": "53ccf38c",
   "metadata": {},
   "outputs": [
    {
     "name": "stdout",
     "output_type": "stream",
     "text": [
      "['__and__', '__class__', '__class_getitem__', '__contains__', '__delattr__', '__dir__', '__doc__', '__eq__', '__format__', '__ge__', '__getattribute__', '__getstate__', '__gt__', '__hash__', '__iand__', '__init__', '__init_subclass__', '__ior__', '__isub__', '__iter__', '__ixor__', '__le__', '__len__', '__lt__', '__ne__', '__new__', '__or__', '__rand__', '__reduce__', '__reduce_ex__', '__repr__', '__ror__', '__rsub__', '__rxor__', '__setattr__', '__sizeof__', '__str__', '__sub__', '__subclasshook__', '__xor__', 'add', 'clear', 'copy', 'difference', 'difference_update', 'discard', 'intersection', 'intersection_update', 'isdisjoint', 'issubset', 'issuperset', 'pop', 'remove', 'symmetric_difference', 'symmetric_difference_update', 'union', 'update']\n",
      "{'orange', 'banana', 'apple', 'coconut'}\n",
      "orange\n"
     ]
    }
   ],
   "source": [
    "#set\n",
    "# the data set can store any where in python\n",
    "# we cant indexing in tuple in python\n",
    "fruits={\"apple\",\"orange\",\"coconut\",\"banana\"}\n",
    "print(dir(fruits))\n",
    "print(fruits)\n",
    "print(fruits.pop())"
   ]
  },
  {
   "cell_type": "code",
   "execution_count": 55,
   "id": "fdcbf150",
   "metadata": {},
   "outputs": [
    {
     "name": "stdout",
     "output_type": "stream",
     "text": [
      "{'d', 'a', 'c', 'b'}\n",
      "{'d', 'c', 'b'}\n",
      "{'d', 'c', 'b'}\n"
     ]
    }
   ],
   "source": [
    "set1 = {\"a\", \"b\", \"c\", \"d\"}\n",
    "print(set1)\n",
    "set1.remove(\"a\")\n",
    "print(set1)\n",
    "set1.discard(\"a\")\n",
    "print(set1)\n"
   ]
  },
  {
   "cell_type": "code",
   "execution_count": 60,
   "id": "0469780b",
   "metadata": {},
   "outputs": [
    {
     "name": "stdout",
     "output_type": "stream",
     "text": [
      "1) ('apple', 'banana', 'orange')\n",
      "2) apple\n",
      "3) ('banana', 'orange')\n",
      "4) orange\n"
     ]
    }
   ],
   "source": [
    "#tuple\n",
    "# tuple is immutable ,in ordered collection of items\n",
    "# tuple is used to store multiple items in a single variable\n",
    "tuple1 = (\"apple\", \"banana\", \"orange\")\n",
    "print(\"1)\",tuple1)\n",
    "print(\"2)\",tuple1[0])\n",
    "print(\"3)\",tuple1[1:3])\n",
    "print(\"4)\",tuple1[-1])"
   ]
  },
  {
   "cell_type": "code",
   "execution_count": 64,
   "id": "85a2265c",
   "metadata": {},
   "outputs": [
    {
     "name": "stdout",
     "output_type": "stream",
     "text": [
      "('apple', 'banana', 'orange', 'grape')\n"
     ]
    }
   ],
   "source": [
    "newTuple = (\"apple\", \"banana\", \"orange\")\n",
    "newTuple+=(\"grape\",)\n",
    "print(newTuple)"
   ]
  },
  {
   "cell_type": "code",
   "execution_count": 69,
   "id": "cb69cfa1",
   "metadata": {},
   "outputs": [
    {
     "name": "stdout",
     "output_type": "stream",
     "text": [
      "apple\n",
      "banana\n",
      "orange\n",
      "['banana', 'orange']\n"
     ]
    }
   ],
   "source": [
    "#Tuples can be created using parentheses () ot the tuple constructor\n",
    "fruits = (\"apple\", \"banana\", \"orange\")\n",
    "(green,yellow,red)=fruits\n",
    "print(green)\n",
    "print(yellow)\n",
    "print(red)\n",
    "(green,*red)=fruits #packaging and unpacking\n",
    "print(red)\n",
    "\n"
   ]
  },
  {
   "cell_type": "code",
   "execution_count": 75,
   "id": "83e32422",
   "metadata": {},
   "outputs": [
    {
     "name": "stdout",
     "output_type": "stream",
     "text": [
      "(1, 2, (3, 4), ['a', 'b'])\n",
      "4\n",
      "a\n"
     ]
    }
   ],
   "source": [
    "t= (1,2,(3,4),[\"a\",\"b\"])\n",
    "print(t)\n",
    "print(t[2][1])  # Accessing nested tuple element\n",
    "print(t[3][0])  # Accessing nested list element within a tuple"
   ]
  },
  {
   "cell_type": "code",
   "execution_count": 77,
   "id": "9085a800",
   "metadata": {},
   "outputs": [
    {
     "name": "stdout",
     "output_type": "stream",
     "text": [
      "<class 'str'>\n",
      "apple\n"
     ]
    }
   ],
   "source": [
    "#def list\n",
    "fruits= (\"apple\")\n",
    "print(type(fruits))  # This will show <class 'str'>, not a tuple\n",
    "print(fruits)"
   ]
  },
  {
   "cell_type": "code",
   "execution_count": 80,
   "id": "e5002614",
   "metadata": {},
   "outputs": [
    {
     "name": "stdout",
     "output_type": "stream",
     "text": [
      "[1, 'hello', 3.14, True] (1, 'hello', 3.14, True) {1, 3.14, 'hello'}\n"
     ]
    }
   ],
   "source": [
    "list =[1,\"hello\",3.14,True]\n",
    "tuple = (1,\"hello\",3.14,True)\n",
    "set = {1,\"hello\",3.14,True}\n",
    "print(list,tuple,set)"
   ]
  },
  {
   "cell_type": "code",
   "execution_count": 81,
   "id": "368399f2",
   "metadata": {},
   "outputs": [
    {
     "name": "stdout",
     "output_type": "stream",
     "text": [
      "Found banana!\n"
     ]
    }
   ],
   "source": [
    "list_fruits = [\"apple\", \"banana\", \"orange\"]\n",
    "for i in list_fruits:\n",
    "    if( i == \"banana\"):\n",
    "        print(\"Found banana!\")\n",
    "        break"
   ]
  },
  {
   "cell_type": "code",
   "execution_count": 89,
   "id": "574a329b",
   "metadata": {},
   "outputs": [
    {
     "name": "stdout",
     "output_type": "stream",
     "text": [
      "Found banana!\n"
     ]
    }
   ],
   "source": [
    "if \"banana\" in list_fruits:\n",
    "    print(\"Found banana!\")\n",
    "else:\n",
    "    print(\"Banana not found!\")\n"
   ]
  },
  {
   "cell_type": "code",
   "execution_count": 91,
   "id": "040b61cd",
   "metadata": {},
   "outputs": [
    {
     "name": "stdout",
     "output_type": "stream",
     "text": [
      "apple\n",
      "banana\n",
      "orange\n",
      "appleapple\n"
     ]
    }
   ],
   "source": [
    "i =0\n",
    "while i < len(list_fruits):\n",
    "    print(list_fruits[i])\n",
    "    i=i+1\n",
    "print(fruits*2)  # This will raise an error because fruits is a string, not a list or tuple"
   ]
  },
  {
   "cell_type": "code",
   "execution_count": 113,
   "id": "693e0825",
   "metadata": {},
   "outputs": [
    {
     "name": "stdout",
     "output_type": "stream",
     "text": [
      "{1: 'first', 'name': 'oshan', 'age': 20, 'class': 'BEC', 'cources': ['python', 'java', 'c++']}\n",
      "oshan\n",
      "20\n",
      "python\n",
      "20\n",
      "['__class__', '__class_getitem__', '__contains__', '__delattr__', '__delitem__', '__dir__', '__doc__', '__eq__', '__format__', '__ge__', '__getattribute__', '__getitem__', '__getstate__', '__gt__', '__hash__', '__init__', '__init_subclass__', '__ior__', '__iter__', '__le__', '__len__', '__lt__', '__ne__', '__new__', '__or__', '__reduce__', '__reduce_ex__', '__repr__', '__reversed__', '__ror__', '__setattr__', '__setitem__', '__sizeof__', '__str__', '__subclasshook__', 'clear', 'copy', 'fromkeys', 'get', 'items', 'keys', 'pop', 'popitem', 'setdefault', 'update', 'values']\n"
     ]
    }
   ],
   "source": [
    "#dictionary\n",
    "# A dictionary is a collection of key-value pairs\n",
    "#it is unordered, changeable, and indexed\n",
    "# dictionaries are written with curly brackets, and they have keys and values\n",
    "student = { 1:\"first\",\n",
    "           \"name\" : \"oshan\",\n",
    "              \"age\" : 20,\n",
    "              \"class\" : \"BEC\",\n",
    "              \"cources\": [\"python\", \"java\", \"c++\"]\n",
    "              }\n",
    "print(student)\n",
    "print(student[\"name\"])\n",
    "print(student[\"age\"])\n",
    "print(student[\"cources\"][0])\n",
    "print(student.get(\"age\"))  # This will return the list of courses\n",
    "print(dir(student))\n",
    "# print(help(student))"
   ]
  },
  {
   "cell_type": "code",
   "execution_count": 124,
   "id": "9df06899",
   "metadata": {},
   "outputs": [
    {
     "name": "stdout",
     "output_type": "stream",
     "text": [
      "{1: 'first', 'name': 'John', 'age': 21, 'class': 'BEC', 'cources': ['python', 'java', 'c++'], 'Job': 'Enginering', 'name\\n': 'John'}\n"
     ]
    }
   ],
   "source": [
    "student[\"name\"] = \"John\"  # Update the name\n",
    "student[\"Job\"] = \"Enginering\"  # Add a new key-value pair\n",
    "student[\"age\"] = 21  # Update the age\n",
    "print(student)"
   ]
  },
  {
   "cell_type": "code",
   "execution_count": 111,
   "id": "af57a1aa",
   "metadata": {},
   "outputs": [
    {
     "name": "stdout",
     "output_type": "stream",
     "text": [
      "{1: 'first', 'name': 'oshan', 'class': 'BEC', 'cources': ['python', 'java', 'c++']}\n"
     ]
    }
   ],
   "source": [
    "del student[\"age\"]  # This will delete the key \"age\" and its value\n",
    "print(student)"
   ]
  },
  {
   "cell_type": "code",
   "execution_count": 114,
   "id": "86a18b2f",
   "metadata": {},
   "outputs": [
    {
     "name": "stdout",
     "output_type": "stream",
     "text": [
      "Found oshan!\n"
     ]
    }
   ],
   "source": [
    "if \"oshan\" in student.values():\n",
    "    print(\"Found oshan!\")"
   ]
  },
  {
   "cell_type": "code",
   "execution_count": 115,
   "id": "4f82a7e2",
   "metadata": {},
   "outputs": [
    {
     "name": "stdout",
     "output_type": "stream",
     "text": [
      "1\n",
      "name\n",
      "age\n",
      "class\n",
      "cources\n"
     ]
    }
   ],
   "source": [
    "for key in student:\n",
    "    print(key)\n"
   ]
  },
  {
   "cell_type": "code",
   "execution_count": 116,
   "id": "61314cd7",
   "metadata": {},
   "outputs": [
    {
     "name": "stdout",
     "output_type": "stream",
     "text": [
      "first\n",
      "oshan\n",
      "20\n",
      "BEC\n",
      "['python', 'java', 'c++']\n"
     ]
    }
   ],
   "source": [
    "for value in student.values():\n",
    "    print(value)\n"
   ]
  },
  {
   "cell_type": "code",
   "execution_count": 125,
   "id": "1cdd70d3",
   "metadata": {},
   "outputs": [
    {
     "name": "stdout",
     "output_type": "stream",
     "text": [
      "1 : first\n",
      "name : John\n",
      "age : 21\n",
      "class : BEC\n",
      "cources : ['python', 'java', 'c++']\n",
      "Job : Enginering\n",
      "name\n",
      " : John\n"
     ]
    }
   ],
   "source": [
    "for key, value in student.items():\n",
    "    print(key, \":\", value)"
   ]
  },
  {
   "cell_type": "code",
   "execution_count": null,
   "id": "3d372304",
   "metadata": {},
   "outputs": [
    {
     "name": "stdout",
     "output_type": "stream",
     "text": [
      "oshan\n"
     ]
    }
   ],
   "source": [
    "student = {\n",
    "  \"student1\": {\n",
    "        \"name\": \"oshan\",\n",
    "        \"age\": 20,\n",
    "        \"class\": \"BEC\",\n",
    "        \"courses\": [\"python\", \"java\", \"c++\"]\n",
    "    },\n",
    "    \"student2\": {\n",
    "        \"name\": \"John\",\n",
    "        \"age\": 21,\n",
    "        \"class\": \"BEC\",\n",
    "        \"courses\": [\"python\", \"java\", \"c++\"]\n",
    "    }\n",
    "}\n",
    "\n",
    "print(student[\"student1\"][\"name\"])  # Output: oshan\n",
    "\n",
    "\n"
   ]
  },
  {
   "cell_type": "code",
   "execution_count": null,
   "id": "0fe044f0",
   "metadata": {},
   "outputs": [],
   "source": [
    "square = {x:x*x for x in range(1, 11)}\n",
    "print(square)  # This will print a dictionary with numbers as keys and their squares as values"
   ]
  }
 ],
 "metadata": {
  "kernelspec": {
   "display_name": "Python 3",
   "language": "python",
   "name": "python3"
  },
  "language_info": {
   "codemirror_mode": {
    "name": "ipython",
    "version": 3
   },
   "file_extension": ".py",
   "mimetype": "text/x-python",
   "name": "python",
   "nbconvert_exporter": "python",
   "pygments_lexer": "ipython3",
   "version": "3.13.1"
  }
 },
 "nbformat": 4,
 "nbformat_minor": 5
}
