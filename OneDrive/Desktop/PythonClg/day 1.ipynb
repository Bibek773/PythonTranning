{
 "cells": [
  {
   "cell_type": "code",
   "execution_count": 7,
   "id": "27c7a17e",
   "metadata": {},
   "outputs": [
    {
     "name": "stdout",
     "output_type": "stream",
     "text": [
      "0\n",
      "hello\n",
      "1\n",
      "hello\n",
      "2\n",
      "hello\n",
      "3\n",
      "hello\n",
      "4\n",
      "hello\n",
      "5\n",
      "hello\n",
      "6\n",
      "hello\n",
      "7\n",
      "hello\n",
      "8\n",
      "hello\n",
      "9\n",
      "hello\n",
      "10\n",
      "hello\n",
      "11\n",
      "hello\n",
      "12\n",
      "hello\n",
      "13\n",
      "hello\n",
      "14\n",
      "hello\n",
      "15\n",
      "hello\n",
      "16\n",
      "hello\n",
      "17\n",
      "hello\n",
      "18\n",
      "hello\n",
      "19\n",
      "hello\n",
      "20\n",
      "hello\n",
      "21\n",
      "hello\n",
      "22\n",
      "hello\n",
      "23\n",
      "hello\n",
      "24\n",
      "hello\n",
      "25\n",
      "hello\n",
      "26\n",
      "hello\n",
      "27\n",
      "hello\n",
      "28\n",
      "hello\n",
      "29\n",
      "hello\n",
      "30\n",
      "hello\n",
      "31\n",
      "hello\n",
      "32\n",
      "hello\n",
      "33\n",
      "hello\n",
      "34\n",
      "hello\n",
      "35\n",
      "hello\n",
      "36\n",
      "hello\n",
      "37\n",
      "hello\n",
      "38\n",
      "hello\n",
      "39\n",
      "hello\n",
      "40\n",
      "hello\n",
      "41\n",
      "hello\n",
      "42\n",
      "hello\n",
      "43\n",
      "hello\n",
      "44\n",
      "hello\n",
      "45\n",
      "hello\n",
      "46\n",
      "hello\n",
      "47\n",
      "hello\n",
      "48\n",
      "hello\n",
      "49\n",
      "hello\n",
      "50\n",
      "hello\n",
      "51\n",
      "hello\n",
      "52\n",
      "hello\n",
      "53\n",
      "hello\n",
      "54\n",
      "hello\n",
      "55\n",
      "hello\n",
      "56\n",
      "hello\n",
      "57\n",
      "hello\n",
      "58\n",
      "hello\n",
      "59\n",
      "hello\n",
      "60\n",
      "hello\n",
      "61\n",
      "hello\n",
      "62\n",
      "hello\n",
      "63\n",
      "hello\n",
      "64\n",
      "hello\n",
      "65\n",
      "hello\n",
      "66\n",
      "hello\n",
      "67\n",
      "hello\n",
      "68\n",
      "hello\n",
      "69\n",
      "hello\n",
      "70\n",
      "hello\n",
      "71\n",
      "hello\n",
      "72\n",
      "hello\n",
      "73\n",
      "hello\n",
      "74\n",
      "hello\n",
      "75\n",
      "hello\n",
      "76\n",
      "hello\n",
      "77\n",
      "hello\n",
      "78\n",
      "hello\n",
      "79\n",
      "hello\n",
      "80\n",
      "hello\n",
      "81\n",
      "hello\n",
      "82\n",
      "hello\n",
      "83\n",
      "hello\n",
      "84\n",
      "hello\n",
      "85\n",
      "hello\n",
      "86\n",
      "hello\n",
      "87\n",
      "hello\n",
      "88\n",
      "hello\n",
      "89\n",
      "hello\n",
      "90\n",
      "hello\n",
      "91\n",
      "hello\n",
      "92\n",
      "hello\n",
      "93\n",
      "hello\n",
      "94\n",
      "hello\n",
      "95\n",
      "hello\n",
      "96\n",
      "hello\n",
      "97\n",
      "hello\n",
      "98\n",
      "hello\n",
      "99\n",
      "hello\n"
     ]
    }
   ],
   "source": [
    "for i in range(100):\n",
    "    print(i)\n",
    "    print(\"hello\")"
   ]
  },
  {
   "cell_type": "code",
   "execution_count": 10,
   "id": "ae3f9046",
   "metadata": {},
   "outputs": [
    {
     "name": "stdout",
     "output_type": "stream",
     "text": [
      "13\n"
     ]
    }
   ],
   "source": [
    "print(8+5)"
   ]
  },
  {
   "cell_type": "code",
   "execution_count": 13,
   "id": "263fa124",
   "metadata": {},
   "outputs": [
    {
     "name": "stdout",
     "output_type": "stream",
     "text": [
      "12.6\n"
     ]
    }
   ],
   "source": [
    "a= 10\n",
    "b= 2.6\n",
    "print(a+b)"
   ]
  },
  {
   "cell_type": "code",
   "execution_count": 15,
   "id": "37b56eb9",
   "metadata": {},
   "outputs": [
    {
     "name": "stdout",
     "output_type": "stream",
     "text": [
      "'hello'\n"
     ]
    }
   ],
   "source": [
    "print(\"'hello'\")"
   ]
  },
  {
   "cell_type": "code",
   "execution_count": 25,
   "id": "77a791df",
   "metadata": {},
   "outputs": [
    {
     "name": "stdout",
     "output_type": "stream",
     "text": [
      "bibek \n",
      " 230309\n"
     ]
    }
   ],
   "source": [
    "name = \"bibek\"\n",
    "roll = 230309\n",
    "print(name,\"\\n\",roll)"
   ]
  },
  {
   "cell_type": "code",
   "execution_count": 28,
   "id": "43e49bf6",
   "metadata": {},
   "outputs": [
    {
     "name": "stdout",
     "output_type": "stream",
     "text": [
      "(4+15j)\n"
     ]
    }
   ],
   "source": [
    "x= 2+7j\n",
    "y= 2+8j\n",
    "print(x+y)"
   ]
  },
  {
   "cell_type": "code",
   "execution_count": null,
   "id": "357bf80f",
   "metadata": {},
   "outputs": [
    {
     "name": "stdout",
     "output_type": "stream",
     "text": [
      "2.0\n"
     ]
    }
   ],
   "source": [
    "print (x.real)``"
   ]
  },
  {
   "cell_type": "code",
   "execution_count": null,
   "id": "a9c6c0f7",
   "metadata": {},
   "outputs": [
    {
     "name": "stdout",
     "output_type": "stream",
     "text": [
      "(2-7j)\n"
     ]
    },
    {
     "name": "stdout",
     "output_type": "stream",
     "text": [
      "(2-7j)\n"
     ]
    }
   ],
   "source": [
    "print(x.conjugate())"
   ]
  },
  {
   "cell_type": "code",
   "execution_count": 1,
   "id": "2523c114",
   "metadata": {},
   "outputs": [
    {
     "name": "stdout",
     "output_type": "stream",
     "text": [
      "8\n"
     ]
    }
   ],
   "source": [
    "a= int(input(\"Enter no\"))\n",
    "print(a)"
   ]
  },
  {
   "cell_type": "code",
   "execution_count": 4,
   "id": "58833c8a",
   "metadata": {},
   "outputs": [
    {
     "name": "stdout",
     "output_type": "stream",
     "text": [
      "Hlo\n"
     ]
    }
   ],
   "source": [
    "b= \"Hello world\"\n",
    "print(b[0:5:2])"
   ]
  },
  {
   "cell_type": "code",
   "execution_count": 7,
   "id": "f741c006",
   "metadata": {},
   "outputs": [
    {
     "name": "stdout",
     "output_type": "stream",
     "text": [
      "dlrow olleH\n"
     ]
    }
   ],
   "source": [
    "b= \"Hello world\"\n",
    "print(b[::-1])  # Reversing the string\n"
   ]
  },
  {
   "cell_type": "code",
   "execution_count": null,
   "id": "f3d68872",
   "metadata": {},
   "outputs": [
    {
     "name": "stdout",
     "output_type": "stream",
     "text": [
      "            hello world\n",
      "            HELLO WORLD\n",
      "Hello world\n",
      "            Hello World\n",
      "            Heajdo world\n",
      "['Hello', 'world']\n",
      "['', '', '', '', '', '', '', '', '', '', '', '', 'Hello', 'world']\n"
     ]
    }
   ],
   "source": [
    "text = \"            Hello world\"\n",
    "print(text.lower())  # Slicing the string\n",
    "print(text.upper())  # Slicing the string\n",
    "print(text.strip())  # Slicing the string\n",
    "print(text.title())  \n",
    "print(text.replace(\"ll\",\"ajd\"))  # Slicing the string\n",
    "print(text.split())  # Slicing the string\n",
    "print(text.split(\" \" ,-1))  # Slicing the string"
   ]
  }
 ],
 "metadata": {
  "kernelspec": {
   "display_name": "Python 3",
   "language": "python",
   "name": "python3"
  },
  "language_info": {
   "codemirror_mode": {
    "name": "ipython",
    "version": 3
   },
   "file_extension": ".py",
   "mimetype": "text/x-python",
   "name": "python",
   "nbconvert_exporter": "python",
   "pygments_lexer": "ipython3",
   "version": "3.13.1"
  }
 },
 "nbformat": 4,
 "nbformat_minor": 5
}
