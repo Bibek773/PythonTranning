{
 "cells": [
  {
   "cell_type": "markdown",
   "id": "aad1397f",
   "metadata": {},
   "source": [
    "## Section A: Theoretical Questions"
   ]
  },
  {
   "cell_type": "markdown",
   "id": "f5b681db",
   "metadata": {},
   "source": [
    "### What is the difference between a list, tuple, and set in Python? Give one use-case for each."
   ]
  },
  {
   "cell_type": "code",
   "execution_count": null,
   "id": "7dc6c895",
   "metadata": {},
   "outputs": [],
   "source": [
    "syntax for list is\n",
    "list1 = [1,2]\n",
    "list is mutable\n",
    "syntax for tuple is\n",
    "tup1 = (1,2)\n",
    "is't mutable\n"
   ]
  },
  {
   "cell_type": "markdown",
   "id": "70de8dba",
   "metadata": {},
   "source": [
    "### Explain how type casting is useful in handling user input."
   ]
  },
  {
   "cell_type": "code",
   "execution_count": null,
   "id": "44d8694a",
   "metadata": {},
   "outputs": [],
   "source": [
    "num1= input(\"enter number\")\n",
    "print(3+num1) #which could be error because by default the value is stored in string\n",
    "#to slove this\n",
    "num1= input(int(\"enter number\"))\n",
    "print(3+num1) #here the num1 is type case to str to int\n"
   ]
  },
  {
   "cell_type": "markdown",
   "id": "39892689",
   "metadata": {},
   "source": [
    "### What is string slicing? Give an example."
   ]
  },
  {
   "cell_type": "code",
   "execution_count": null,
   "id": "dc813513",
   "metadata": {},
   "outputs": [],
   "source": [
    "String slicing means extracting a part (substring) of a string using index positions.\n",
    "text = \"PythonProgramming\" # this is Original string\n",
    "#Slice from index 0 to 5\n",
    "print( text[0:6])       # Output: Python\n",
    "# 2. Slice from index 6 to end\n",
    "print(text[6:])        # Output: Programming\n",
    "# 3. Slice entire string\n",
    "print(text[:])         # Output: PythonProgramming\n",
    "# 4. Skip every 2 characters\n",
    "print(text[::2])       # Output: Pto rgamn\n",
    "# 5. Reverse the string\n",
    "print(text[::-1])      # Output: gnimmargorPnohtyP"
   ]
  },
  {
   "cell_type": "markdown",
   "id": "aca69127",
   "metadata": {},
   "source": [
    "### Compare 1D vs 2D arrays in the context of NumPy. Why is it important in data science?"
   ]
  },
  {
   "cell_type": "code",
   "execution_count": null,
   "id": "5ffd15ac",
   "metadata": {},
   "outputs": [],
   "source": [
    "1D Array:\n",
    "(n,)\n",
    "[1, 2,3, 4]\n",
    "Vector, single feature set\n",
    "arr[i]\n",
    "\n",
    "2D Array:\n",
    "(rows, columns)\n",
    "[[1, 2], [3, 4]]\n",
    "Table, dataset with multiple samples and features\n",
    "arr[i, j]\n",
    "\n",
    "Why important in Data Science?\n",
    "1D arrays hold single feature vectors.\n",
    "2D arrays represent datasets (rows = samples, columns = features).\n",
    "Operations (like mean, reshape) behave differently based on array dimension.\n",
    "Understanding this helps correctly preprocess and analyze data efficiently."
   ]
  },
  {
   "cell_type": "markdown",
   "id": "2478f96e",
   "metadata": {},
   "source": [
    "### Why is indentation important in Python? What happens if you ignore it?"
   ]
  },
  {
   "cell_type": "code",
   "execution_count": null,
   "id": "ef53a8e0",
   "metadata": {},
   "outputs": [],
   "source": [
    "it is important because in python there is no '{ }' like other programing language c,c++,java rtc....\n",
    "if we ignore it it wil cause an error .also python doesnt know which is block of code.\n",
    "example:\n",
    "def a(){\n",
    "    //which cause error\n",
    "}\n",
    "# solution\n",
    "def():\n",
    "   pass   \n",
    "so indentation is important\n"
   ]
  },
  {
   "cell_type": "markdown",
   "id": "e004485e",
   "metadata": {},
   "source": [
    "## Section B: Coding Exercises"
   ]
  },
  {
   "cell_type": "markdown",
   "id": "f7639ab3",
   "metadata": {},
   "source": [
    "\n",
    "### User Input & Type Casting\n",
    "### Take the age and height (in cm) of a user as input and print a message like:\n",
    "### \"You are 23 years old and 170.5 cm tall.\"\n"
   ]
  },
  {
   "cell_type": "code",
   "execution_count": null,
   "id": "b0c45ff1",
   "metadata": {},
   "outputs": [],
   "source": [
    "age = input(int(\"ther your age : \"))\n",
    "hegiht = input(int(\"enter your hight in cm :))\n",
    "print(f\"your age is {age} and height is {height} cm tall)"
   ]
  },
  {
   "cell_type": "markdown",
   "id": "06c638d3",
   "metadata": {},
   "source": [
    "\n",
    "### Given a string s = \"DataScience\", print:\n",
    "\n",
    "### (a) First 4 characters\n",
    "\n",
    "### (b) Last 3 characters\n",
    "\n",
    "### (c) Every second character"
   ]
  },
  {
   "cell_type": "code",
   "execution_count": null,
   "id": "307af9f3",
   "metadata": {},
   "outputs": [],
   "source": [
    "s = \"DataScience\"\n",
    "print(s[:4])\n",
    "print(s[:3])\n",
    "print(s[::2])\n"
   ]
  },
  {
   "cell_type": "markdown",
   "id": "22feac4e",
   "metadata": {},
   "source": [
    "\n",
    "### Create a list of numbers from 1 to 10. Convert it to a tuple and print the square of each number using a loop."
   ]
  },
  {
   "cell_type": "code",
   "execution_count": null,
   "id": "59266c44",
   "metadata": {},
   "outputs": [],
   "source": [
    "list=[1,2,3,4,5,6,7,8,9,10]\n",
    "tuple=(list)\n",
    "xx=x** for x in tuple:\n",
    "   print(xx)"
   ]
  },
  {
   "cell_type": "markdown",
   "id": "fcdd16fb",
   "metadata": {},
   "source": [
    "### Given two sets:\n",
    "### A = {1, 2, 3, 4, 5}, B = {4, 5, 6, 7},\n",
    "\n",
    "### Print the union and intersection of the sets.\n",
    "\n",
    "### Remove 3 from set A."
   ]
  },
  {
   "cell_type": "code",
   "execution_count": null,
   "id": "3d86d119",
   "metadata": {},
   "outputs": [],
   "source": [
    "A.union(B)\n",
    "A.intersection(B)\n",
    "for x in [1,2,3]:\n",
    "   A.discard(x)"
   ]
  },
  {
   "cell_type": "markdown",
   "id": "34a5ed22",
   "metadata": {},
   "source": [
    "\n",
    "### (a) Create a NumPy array from a user input list.\n",
    "### (b) Create a 2D NumPy array of shape (3, 3) and fill it with numbers 1 to 9.\n",
    "### (c) Print the first row, last column, and the transpose of the array."
   ]
  },
  {
   "cell_type": "code",
   "execution_count": null,
   "id": "dab5ee6e",
   "metadata": {},
   "outputs": [],
   "source": [
    "#a\n",
    "import numpy as np\n",
    "user_input = input(\"Enter numbers separated by spaces: \")\n",
    "num_list = [int(x) for x in user_input.split()]\n",
    "arr = np.array(num_list)\n",
    "#B\n",
    "arr =[[1,2,3],[4,5,6],[7,8,9]]\n",
    "\n",
    "#c\n",
    "print(arr[0],arr[2])\n",
    "print(arr.T)\n",
    "\n"
   ]
  },
  {
   "cell_type": "markdown",
   "id": "ff2996e7",
   "metadata": {},
   "source": [
    "## Section C: BrainStorming"
   ]
  },
  {
   "cell_type": "markdown",
   "id": "7d897c88",
   "metadata": {},
   "source": [
    "### Why are NumPy arrays preferred over lists in data science? Mention two reasons with examples."
   ]
  },
  {
   "cell_type": "code",
   "execution_count": null,
   "id": "7297f49f",
   "metadata": {},
   "outputs": [],
   "source": [
    "# NumPy arrays are implemented in C and optimized for performance. They handle large data much faster than Python lists or built-in arrays.\n",
    "# Performance & Efficiency\n",
    "# Powerful Mathematical Functions"
   ]
  },
  {
   "cell_type": "markdown",
   "id": "4241256e",
   "metadata": {},
   "source": [
    "### Suppose you want to store multiple temperature readings over several days, where each day has different numbers of readings. Which Python data structure would you choose and why?"
   ]
  },
  {
   "cell_type": "code",
   "execution_count": null,
   "id": "0ee14592",
   "metadata": {},
   "outputs": [],
   "source": []
  },
  {
   "cell_type": "markdown",
   "id": "f52d1737",
   "metadata": {},
   "source": [
    "### Create a function analyze_array(arr) that:\n",
    "\n",
    "### Takes a NumPy array as input\n",
    "\n",
    "### Prints the shape, mean, and standard deviation of the array."
   ]
  },
  {
   "cell_type": "code",
   "execution_count": null,
   "id": "6999c646",
   "metadata": {},
   "outputs": [],
   "source": [
    "# I choose list because,\n",
    "# temparature can  be in both float and int which is different data types.\n",
    "#  in list we can use muntiple data types and it is mutable.so i choose list."
   ]
  },
  {
   "cell_type": "markdown",
   "id": "b517b373",
   "metadata": {},
   "source": [
    "### Given a list of 10 integers, write a loop to check which numbers are divisible by both 2 and 3. Store them in a set."
   ]
  },
  {
   "cell_type": "code",
   "execution_count": null,
   "id": "ad0218c1",
   "metadata": {},
   "outputs": [
    {
     "name": "stdout",
     "output_type": "stream",
     "text": [
      "these numbers are divisible by both 2 and 3: \n",
      " 6\n"
     ]
    }
   ],
   "source": [
    "a=[1, 2, 3, 4, 5, 6, 7, 8, 9, 10]\n",
    "for num in a:\n",
    "    if num % 2 == 0:\n",
    "        if num % 3 == 0:\n",
    "          print(\"these numbers are divisible by both 2 and 3: \\n\", num)"
   ]
  }
 ],
 "metadata": {
  "kernelspec": {
   "display_name": "Python 3",
   "language": "python",
   "name": "python3"
  },
  "language_info": {
   "codemirror_mode": {
    "name": "ipython",
    "version": 3
   },
   "file_extension": ".py",
   "mimetype": "text/x-python",
   "name": "python",
   "nbconvert_exporter": "python",
   "pygments_lexer": "ipython3",
   "version": "3.12.6"
  }
 },
 "nbformat": 4,
 "nbformat_minor": 5
}
